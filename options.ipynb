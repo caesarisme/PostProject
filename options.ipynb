{
 "cells": [
  {
   "cell_type": "markdown",
   "metadata": {},
   "source": [
    "# This example demonstrate how to train region detector model (standart image classification model)."
   ]
  },
  {
   "cell_type": "markdown",
   "metadata": {},
   "source": [
    "For train datasets please download last version of dataset [https://nomeroff.net.ua/datasets/](https://nomeroff.net.ua/datasets/). Unpack archive and rename to **./datasets/** .\n",
    "For examle\n",
    "```bash\n",
    "cd ./datasets/ocr\n",
    "wget https://nomeroff.net.ua/datasets/autoriaNumberplateOptionsDataset-2019-02-20.zip\n",
    "unzip autoriaNumberplateOptionsDataset-2019-02-20.zip\n",
    "mv autoriaNumberplateOptionsDataset-2019-02-20 ua\n",
    "```\n",
    "or use your own dataset."
   ]
  },
  {
   "cell_type": "code",
   "execution_count": 1,
   "metadata": {},
   "outputs": [
    {
     "name": "stdout",
     "output_type": "stream",
     "text": [
      "WARNING:tensorflow:From /home/manapov/miniconda3/envs/nomeroff/lib/python3.6/site-packages/NomeroffNet/Detector.py:14: The name tf.ConfigProto is deprecated. Please use tf.compat.v1.ConfigProto instead.\n",
      "\n",
      "WARNING:tensorflow:From /home/manapov/miniconda3/envs/nomeroff/lib/python3.6/site-packages/NomeroffNet/Detector.py:16: The name tf.Session is deprecated. Please use tf.compat.v1.Session instead.\n",
      "\n"
     ]
    },
    {
     "name": "stderr",
     "output_type": "stream",
     "text": [
      "Using TensorFlow backend.\n"
     ]
    }
   ],
   "source": [
    "import os\n",
    "import sys\n",
    "import warnings\n",
    "warnings.filterwarnings('ignore')\n",
    "\n",
    "# change this property\n",
    "NOMEROFF_NET_DIR = os.path.abspath('/home/manapov/POST/')\n",
    "\n",
    "DATASET_NAME = \"options\"\n",
    "VERSION = \"2019_10_24\"\n",
    "\n",
    "LOG_DIR = os.path.join(NOMEROFF_NET_DIR, \"logs/\")\n",
    "PATH_TO_DATASET = os.path.join(NOMEROFF_NET_DIR, \"datasets/\", \"options\")\n",
    "RESULT_PATH = os.path.join(NOMEROFF_NET_DIR, \"models/\", 'handwritten_{}_{}.h5'.format(DATASET_NAME, VERSION))\n",
    "\n",
    "FROZEN_MODEL_PATH = os.path.join(NOMEROFF_NET_DIR, \"models/\", 'handwritten_{}_{}.pb'.format(DATASET_NAME, VERSION))\n",
    "\n",
    "sys.path.append(NOMEROFF_NET_DIR)\n",
    "\n",
    "from NomeroffNet import OptionsDetector\n",
    "from NomeroffNet.Base import convert_keras_to_freeze_pb"
   ]
  },
  {
   "cell_type": "code",
   "execution_count": 2,
   "metadata": {},
   "outputs": [],
   "source": [
    "# definde your parameters\n",
    "# definde your parameters\n",
    "class MyNumberClassificator(OptionsDetector):\n",
    "    def __init__(self):\n",
    "        OptionsDetector.__init__(self)\n",
    "        # outputs 1\n",
    "        #self.CLASS_STATE = [\"BACKGROUND\"]\n",
    "        self.CLASS_STATE = [\"BACKGROUND\", \"FILLED\", \"NOT_FILLED\"]\n",
    "        # outputs 2\n",
    "        self.CLASS_REGION = [\"Казахстан\", \"Белоруссия\", \"Киргизия\", \"Таджикистан\", \"Узбекистан\", \"Астана\", \"Алматы\", \"Актау\", \"Актобе\",\"Атырау\",\"Караганда\", \"Костанай\", \"Кызылорда\", \"Павлодар\", \"Петропавловск\", \"Семей\", \"Тараз\", \"Уральск\", \"Туркестан\", \"Кокшетау\", \"Шымкент\", \"Россия\", \"Украина\", \"Абхазия\", \"Южная\", \"Молдавия\", \"Акмолинская\", \"Алматинская\", \"Мангистауская\", \"Актюбинская\", \"Атырауская\", \"Карагандинская\", \"Костанайская\", \"Кызылординская\", \"Павлодарская\", \"Северно-Казахстанская\", \"Восточно-Казахстанская\", \"Жамбыльская\", \"Западно-Казахстанская\", \"Туркестанская\", \"Усть-Каменогорск\", \"Южно-Казахстанская\"]\n",
    "        #self.CLASS_REGION = [\"xx-unknown\", \"eu-ua-2015\", \"eu-ua-2004\", \"eu-ua-1995\", \"eu\", \"xx-transit\", \"ru\", \"kz\"]\n",
    "        self.EPOCHS           = 100\n",
    "        self.BATCH_SIZE       = 64\n",
    "        \n",
    "        self.HEIGHT         = 64\n",
    "        self.WEIGHT         = 295\n"
   ]
  },
  {
   "cell_type": "code",
   "execution_count": 3,
   "metadata": {},
   "outputs": [
    {
     "name": "stdout",
     "output_type": "stream",
     "text": [
      "START PREPARING\n",
      "start train build\n",
      "end train build\n",
      "start test build\n",
      "end test build\n",
      "start test build\n",
      "end test build\n",
      "DATA PREPARED\n",
      "/home/manapov/POST/datasets/options\n"
     ]
    }
   ],
   "source": [
    "# initialize region detector.\n",
    "numberClassificator = MyNumberClassificator()\n",
    "numberClassificator.prepare(PATH_TO_DATASET)\n",
    "print(PATH_TO_DATASET)"
   ]
  },
  {
   "cell_type": "code",
   "execution_count": null,
   "metadata": {},
   "outputs": [],
   "source": []
  },
  {
   "cell_type": "code",
   "execution_count": 6,
   "metadata": {},
   "outputs": [
    {
     "name": "stdout",
     "output_type": "stream",
     "text": [
      "Epoch 1/100\n",
      "205/204 [==============================] - 289s 1s/step - loss: 3.6063 - REGION_loss: 3.3849 - STATE_loss: 0.0958 - COUNT_LINE_loss: 0.0954 - REGION_acc: 0.0917 - STATE_acc: 0.9967 - COUNT_LINE_acc: 0.9968 - val_loss: 2.9889 - val_REGION_loss: 2.9482 - val_STATE_loss: 0.0029 - val_COUNT_LINE_loss: 0.0030 - val_REGION_acc: 0.1783 - val_STATE_acc: 1.0000 - val_COUNT_LINE_acc: 1.0000\n",
      "Epoch 2/100\n",
      "205/204 [==============================] - 442s 2s/step - loss: 2.9200 - REGION_loss: 2.8785 - STATE_loss: 0.0022 - COUNT_LINE_loss: 0.0022 - REGION_acc: 0.2046 - STATE_acc: 1.0000 - COUNT_LINE_acc: 1.0000 - val_loss: 2.5883 - val_REGION_loss: 2.5453 - val_STATE_loss: 0.0019 - val_COUNT_LINE_loss: 0.0019 - val_REGION_acc: 0.2945 - val_STATE_acc: 1.0000 - val_COUNT_LINE_acc: 1.0000\n",
      "Epoch 3/100\n",
      "205/204 [==============================] - 446s 2s/step - loss: 2.5510 - REGION_loss: 2.5065 - STATE_loss: 0.0017 - COUNT_LINE_loss: 0.0017 - REGION_acc: 0.2856 - STATE_acc: 1.0000 - COUNT_LINE_acc: 1.0000 - val_loss: 2.3085 - val_REGION_loss: 2.2625 - val_STATE_loss: 0.0016 - val_COUNT_LINE_loss: 0.0016 - val_REGION_acc: 0.3536 - val_STATE_acc: 1.0000 - val_COUNT_LINE_acc: 1.0000\n",
      "Epoch 4/100\n",
      "205/204 [==============================] - 457s 2s/step - loss: 2.2725 - REGION_loss: 2.2255 - STATE_loss: 0.0015 - COUNT_LINE_loss: 0.0015 - REGION_acc: 0.3540 - STATE_acc: 1.0000 - COUNT_LINE_acc: 1.0000 - val_loss: 1.9501 - val_REGION_loss: 1.9021 - val_STATE_loss: 0.0014 - val_COUNT_LINE_loss: 0.0014 - val_REGION_acc: 0.4504 - val_STATE_acc: 1.0000 - val_COUNT_LINE_acc: 1.0000\n",
      "Epoch 5/100\n",
      "205/204 [==============================] - 455s 2s/step - loss: 2.0469 - REGION_loss: 1.9980 - STATE_loss: 0.0014 - COUNT_LINE_loss: 0.0014 - REGION_acc: 0.4149 - STATE_acc: 1.0000 - COUNT_LINE_acc: 1.0000 - val_loss: 1.7591 - val_REGION_loss: 1.7092 - val_STATE_loss: 0.0013 - val_COUNT_LINE_loss: 0.0013 - val_REGION_acc: 0.5132 - val_STATE_acc: 1.0000 - val_COUNT_LINE_acc: 1.0000\n",
      "Epoch 6/100\n",
      "205/204 [==============================] - 461s 2s/step - loss: 1.8656 - REGION_loss: 1.8151 - STATE_loss: 0.0012 - COUNT_LINE_loss: 0.0012 - REGION_acc: 0.4619 - STATE_acc: 1.0000 - COUNT_LINE_acc: 1.0000 - val_loss: 1.6895 - val_REGION_loss: 1.6383 - val_STATE_loss: 0.0012 - val_COUNT_LINE_loss: 0.0012 - val_REGION_acc: 0.5778 - val_STATE_acc: 1.0000 - val_COUNT_LINE_acc: 1.0000\n",
      "Epoch 7/100\n",
      "205/204 [==============================] - 474s 2s/step - loss: 1.6694 - REGION_loss: 1.6175 - STATE_loss: 0.0011 - COUNT_LINE_loss: 0.0011 - REGION_acc: 0.5191 - STATE_acc: 1.0000 - COUNT_LINE_acc: 1.0000 - val_loss: 1.3529 - val_REGION_loss: 1.3003 - val_STATE_loss: 0.0011 - val_COUNT_LINE_loss: 0.0011 - val_REGION_acc: 0.6192 - val_STATE_acc: 1.0000 - val_COUNT_LINE_acc: 1.0000\n",
      "Epoch 8/100\n",
      "205/204 [==============================] - 457s 2s/step - loss: 1.5293 - REGION_loss: 1.4761 - STATE_loss: 0.0010 - COUNT_LINE_loss: 0.0010 - REGION_acc: 0.5625 - STATE_acc: 1.0000 - COUNT_LINE_acc: 1.0000 - val_loss: 1.2453 - val_REGION_loss: 1.1916 - val_STATE_loss: 9.7587e-04 - val_COUNT_LINE_loss: 9.7822e-04 - val_REGION_acc: 0.6617 - val_STATE_acc: 1.0000 - val_COUNT_LINE_acc: 1.0000\n",
      "Epoch 9/100\n",
      "205/204 [==============================] - 446s 2s/step - loss: 1.3782 - REGION_loss: 1.3240 - STATE_loss: 9.2813e-04 - COUNT_LINE_loss: 9.3011e-04 - REGION_acc: 0.6006 - STATE_acc: 1.0000 - COUNT_LINE_acc: 1.0000 - val_loss: 1.1086 - val_REGION_loss: 1.0539 - val_STATE_loss: 8.8207e-04 - val_COUNT_LINE_loss: 8.8339e-04 - val_REGION_acc: 0.7055 - val_STATE_acc: 1.0000 - val_COUNT_LINE_acc: 1.0000\n",
      "Epoch 10/100\n",
      "205/204 [==============================] - 438s 2s/step - loss: 1.2526 - REGION_loss: 1.1975 - STATE_loss: 8.3764e-04 - COUNT_LINE_loss: 8.3928e-04 - REGION_acc: 0.6447 - STATE_acc: 1.0000 - COUNT_LINE_acc: 1.0000 - val_loss: 1.0018 - val_REGION_loss: 0.9462 - val_STATE_loss: 7.9545e-04 - val_COUNT_LINE_loss: 7.9629e-04 - val_REGION_acc: 0.7449 - val_STATE_acc: 1.0000 - val_COUNT_LINE_acc: 1.0000\n",
      "Epoch 11/100\n",
      "205/204 [==============================] - 454s 2s/step - loss: 1.1435 - REGION_loss: 1.0875 - STATE_loss: 7.5529e-04 - COUNT_LINE_loss: 7.5658e-04 - REGION_acc: 0.6768 - STATE_acc: 1.0000 - COUNT_LINE_acc: 1.0000 - val_loss: 0.9385 - val_REGION_loss: 0.8821 - val_STATE_loss: 7.1745e-04 - val_COUNT_LINE_loss: 7.1795e-04 - val_REGION_acc: 0.7694 - val_STATE_acc: 1.0000 - val_COUNT_LINE_acc: 1.0000\n",
      "Epoch 12/100\n",
      "205/204 [==============================] - 527s 3s/step - loss: 1.0429 - REGION_loss: 0.9860 - STATE_loss: 6.8036e-04 - COUNT_LINE_loss: 6.8131e-04 - REGION_acc: 0.7089 - STATE_acc: 1.0000 - COUNT_LINE_acc: 1.0000 - val_loss: 0.8863 - val_REGION_loss: 0.8290 - val_STATE_loss: 6.4548e-04 - val_COUNT_LINE_loss: 6.4631e-04 - val_REGION_acc: 0.7646 - val_STATE_acc: 1.0000 - val_COUNT_LINE_acc: 1.0000\n",
      "Epoch 13/100\n",
      "205/204 [==============================] - 492s 2s/step - loss: 0.9628 - REGION_loss: 0.9051 - STATE_loss: 6.1216e-04 - COUNT_LINE_loss: 6.1279e-04 - REGION_acc: 0.7298 - STATE_acc: 1.0000 - COUNT_LINE_acc: 1.0000 - val_loss: 0.7190 - val_REGION_loss: 0.6611 - val_STATE_loss: 5.8021e-04 - val_COUNT_LINE_loss: 5.8052e-04 - val_REGION_acc: 0.8105 - val_STATE_acc: 1.0000 - val_COUNT_LINE_acc: 1.0000\n",
      "Epoch 14/100\n",
      "205/204 [==============================] - 471s 2s/step - loss: 0.9063 - REGION_loss: 0.8480 - STATE_loss: 5.5014e-04 - COUNT_LINE_loss: 5.5050e-04 - REGION_acc: 0.7461 - STATE_acc: 1.0000 - COUNT_LINE_acc: 1.0000 - val_loss: 0.6879 - val_REGION_loss: 0.6293 - val_STATE_loss: 5.2134e-04 - val_COUNT_LINE_loss: 5.2129e-04 - val_REGION_acc: 0.8162 - val_STATE_acc: 1.0000 - val_COUNT_LINE_acc: 1.0000\n",
      "Epoch 15/100\n",
      "205/204 [==============================] - 467s 2s/step - loss: 0.8290 - REGION_loss: 0.7702 - STATE_loss: 4.9393e-04 - COUNT_LINE_loss: 4.9404e-04 - REGION_acc: 0.7704 - STATE_acc: 1.0000 - COUNT_LINE_acc: 1.0000 - val_loss: 0.7185 - val_REGION_loss: 0.6594 - val_STATE_loss: 4.6748e-04 - val_COUNT_LINE_loss: 4.6760e-04 - val_REGION_acc: 0.8118 - val_STATE_acc: 1.0000 - val_COUNT_LINE_acc: 1.0000\n",
      "Epoch 16/100\n",
      "205/204 [==============================] - 467s 2s/step - loss: 0.7759 - REGION_loss: 0.7166 - STATE_loss: 4.4316e-04 - COUNT_LINE_loss: 4.4306e-04 - REGION_acc: 0.7842 - STATE_acc: 1.0000 - COUNT_LINE_acc: 1.0000 - val_loss: 0.6205 - val_REGION_loss: 0.5610 - val_STATE_loss: 4.1989e-04 - val_COUNT_LINE_loss: 4.1924e-04 - val_REGION_acc: 0.8393 - val_STATE_acc: 1.0000 - val_COUNT_LINE_acc: 1.0000\n",
      "Epoch 17/100\n",
      "205/204 [==============================] - 441s 2s/step - loss: 0.7391 - REGION_loss: 0.6795 - STATE_loss: 3.9748e-04 - COUNT_LINE_loss: 3.9720e-04 - REGION_acc: 0.7966 - STATE_acc: 1.0000 - COUNT_LINE_acc: 1.0000 - val_loss: 0.7218 - val_REGION_loss: 0.6620 - val_STATE_loss: 3.7638e-04 - val_COUNT_LINE_loss: 3.7583e-04 - val_REGION_acc: 0.8224 - val_STATE_acc: 1.0000 - val_COUNT_LINE_acc: 1.0000\n",
      "Epoch 18/100\n",
      "205/204 [==============================] - 442s 2s/step - loss: 0.7041 - REGION_loss: 0.6443 - STATE_loss: 3.5642e-04 - COUNT_LINE_loss: 3.5603e-04 - REGION_acc: 0.8087 - STATE_acc: 1.0000 - COUNT_LINE_acc: 1.0000 - val_loss: 0.5496 - val_REGION_loss: 0.4896 - val_STATE_loss: 3.3761e-04 - val_COUNT_LINE_loss: 3.3703e-04 - val_REGION_acc: 0.8696 - val_STATE_acc: 1.0000 - val_COUNT_LINE_acc: 1.0000\n",
      "Epoch 19/100\n",
      "205/204 [==============================] - 448s 2s/step - loss: 0.6523 - REGION_loss: 0.5921 - STATE_loss: 3.1963e-04 - COUNT_LINE_loss: 3.1914e-04 - REGION_acc: 0.8273 - STATE_acc: 1.0000 - COUNT_LINE_acc: 1.0000 - val_loss: 0.5258 - val_REGION_loss: 0.4656 - val_STATE_loss: 3.0251e-04 - val_COUNT_LINE_loss: 3.0190e-04 - val_REGION_acc: 0.8702 - val_STATE_acc: 1.0000 - val_COUNT_LINE_acc: 1.0000\n",
      "Epoch 20/100\n",
      "205/204 [==============================] - 439s 2s/step - loss: 0.6204 - REGION_loss: 0.5600 - STATE_loss: 2.8668e-04 - COUNT_LINE_loss: 2.8612e-04 - REGION_acc: 0.8337 - STATE_acc: 1.0000 - COUNT_LINE_acc: 1.0000 - val_loss: 0.5339 - val_REGION_loss: 0.4734 - val_STATE_loss: 2.7123e-04 - val_COUNT_LINE_loss: 2.7073e-04 - val_REGION_acc: 0.8672 - val_STATE_acc: 1.0000 - val_COUNT_LINE_acc: 1.0000\n",
      "Epoch 21/100\n"
     ]
    },
    {
     "name": "stdout",
     "output_type": "stream",
     "text": [
      "205/204 [==============================] - 451s 2s/step - loss: 0.5815 - REGION_loss: 0.5210 - STATE_loss: 2.5715e-04 - COUNT_LINE_loss: 2.5654e-04 - REGION_acc: 0.8454 - STATE_acc: 1.0000 - COUNT_LINE_acc: 1.0000 - val_loss: 0.4356 - val_REGION_loss: 0.3750 - val_STATE_loss: 2.4350e-04 - val_COUNT_LINE_loss: 2.4287e-04 - val_REGION_acc: 0.8984 - val_STATE_acc: 1.0000 - val_COUNT_LINE_acc: 1.0000\n",
      "Epoch 22/100\n",
      "205/204 [==============================] - 455s 2s/step - loss: 0.5654 - REGION_loss: 0.5048 - STATE_loss: 2.3069e-04 - COUNT_LINE_loss: 2.3006e-04 - REGION_acc: 0.8509 - STATE_acc: 1.0000 - COUNT_LINE_acc: 1.0000 - val_loss: 0.5089 - val_REGION_loss: 0.4483 - val_STATE_loss: 2.1867e-04 - val_COUNT_LINE_loss: 2.1792e-04 - val_REGION_acc: 0.8842 - val_STATE_acc: 1.0000 - val_COUNT_LINE_acc: 1.0000\n",
      "Epoch 23/100\n",
      "205/204 [==============================] - 464s 2s/step - loss: 0.5334 - REGION_loss: 0.4728 - STATE_loss: 2.0699e-04 - COUNT_LINE_loss: 2.0634e-04 - REGION_acc: 0.8609 - STATE_acc: 1.0000 - COUNT_LINE_acc: 1.0000 - val_loss: 0.4429 - val_REGION_loss: 0.3822 - val_STATE_loss: 1.9601e-04 - val_COUNT_LINE_loss: 1.9531e-04 - val_REGION_acc: 0.8957 - val_STATE_acc: 1.0000 - val_COUNT_LINE_acc: 1.0000\n",
      "Epoch 24/100\n",
      "205/204 [==============================] - 461s 2s/step - loss: 0.5172 - REGION_loss: 0.4566 - STATE_loss: 1.8576e-04 - COUNT_LINE_loss: 1.8509e-04 - REGION_acc: 0.8639 - STATE_acc: 1.0000 - COUNT_LINE_acc: 1.0000 - val_loss: 0.4474 - val_REGION_loss: 0.3868 - val_STATE_loss: 1.7604e-04 - val_COUNT_LINE_loss: 1.7531e-04 - val_REGION_acc: 0.8930 - val_STATE_acc: 1.0000 - val_COUNT_LINE_acc: 1.0000\n",
      "Epoch 25/100\n",
      "205/204 [==============================] - 466s 2s/step - loss: 0.4915 - REGION_loss: 0.4310 - STATE_loss: 1.6676e-04 - COUNT_LINE_loss: 1.6605e-04 - REGION_acc: 0.8726 - STATE_acc: 1.0000 - COUNT_LINE_acc: 1.0000 - val_loss: 0.3981 - val_REGION_loss: 0.3377 - val_STATE_loss: 1.5798e-04 - val_COUNT_LINE_loss: 1.5725e-04 - val_REGION_acc: 0.9032 - val_STATE_acc: 1.0000 - val_COUNT_LINE_acc: 1.0000\n",
      "Epoch 26/100\n",
      "205/204 [==============================] - 470s 2s/step - loss: 0.4558 - REGION_loss: 0.3953 - STATE_loss: 1.4971e-04 - COUNT_LINE_loss: 1.4900e-04 - REGION_acc: 0.8833 - STATE_acc: 1.0000 - COUNT_LINE_acc: 1.0000 - val_loss: 0.4089 - val_REGION_loss: 0.3485 - val_STATE_loss: 1.4179e-04 - val_COUNT_LINE_loss: 1.4111e-04 - val_REGION_acc: 0.8957 - val_STATE_acc: 1.0000 - val_COUNT_LINE_acc: 1.0000\n",
      "Epoch 27/100\n",
      "205/204 [==============================] - 477s 2s/step - loss: 0.4536 - REGION_loss: 0.3933 - STATE_loss: 1.3441e-04 - COUNT_LINE_loss: 1.3372e-04 - REGION_acc: 0.8826 - STATE_acc: 1.0000 - COUNT_LINE_acc: 1.0000 - val_loss: 0.3889 - val_REGION_loss: 0.3287 - val_STATE_loss: 1.2729e-04 - val_COUNT_LINE_loss: 1.2664e-04 - val_REGION_acc: 0.9066 - val_STATE_acc: 1.0000 - val_COUNT_LINE_acc: 1.0000\n",
      "Epoch 28/100\n",
      "205/204 [==============================] - 482s 2s/step - loss: 0.4289 - REGION_loss: 0.3687 - STATE_loss: 1.2069e-04 - COUNT_LINE_loss: 1.2002e-04 - REGION_acc: 0.8899 - STATE_acc: 1.0000 - COUNT_LINE_acc: 1.0000 - val_loss: 0.4188 - val_REGION_loss: 0.3587 - val_STATE_loss: 1.1429e-04 - val_COUNT_LINE_loss: 1.1366e-04 - val_REGION_acc: 0.9005 - val_STATE_acc: 1.0000 - val_COUNT_LINE_acc: 1.0000\n",
      "Epoch 29/100\n",
      "205/204 [==============================] - 479s 2s/step - loss: 0.4271 - REGION_loss: 0.3670 - STATE_loss: 1.0838e-04 - COUNT_LINE_loss: 1.0773e-04 - REGION_acc: 0.8905 - STATE_acc: 1.0000 - COUNT_LINE_acc: 1.0000 - val_loss: 0.4019 - val_REGION_loss: 0.3419 - val_STATE_loss: 1.0258e-04 - val_COUNT_LINE_loss: 1.0194e-04 - val_REGION_acc: 0.9086 - val_STATE_acc: 1.0000 - val_COUNT_LINE_acc: 1.0000\n",
      "Epoch 30/100\n",
      "205/204 [==============================] - 469s 2s/step - loss: 0.4073 - REGION_loss: 0.3474 - STATE_loss: 9.7329e-05 - COUNT_LINE_loss: 9.6712e-05 - REGION_acc: 0.9005 - STATE_acc: 1.0000 - COUNT_LINE_acc: 1.0000 - val_loss: 0.3513 - val_REGION_loss: 0.2915 - val_STATE_loss: 9.2209e-05 - val_COUNT_LINE_loss: 9.1613e-05 - val_REGION_acc: 0.9185 - val_STATE_acc: 1.0000 - val_COUNT_LINE_acc: 1.0000\n",
      "Epoch 31/100\n",
      "205/204 [==============================] - 459s 2s/step - loss: 0.4010 - REGION_loss: 0.3413 - STATE_loss: 8.7409e-05 - COUNT_LINE_loss: 8.6821e-05 - REGION_acc: 0.8992 - STATE_acc: 1.0000 - COUNT_LINE_acc: 1.0000 - val_loss: 0.3231 - val_REGION_loss: 0.2634 - val_STATE_loss: 8.2803e-05 - val_COUNT_LINE_loss: 8.2247e-05 - val_REGION_acc: 0.9290 - val_STATE_acc: 1.0000 - val_COUNT_LINE_acc: 1.0000\n",
      "Epoch 32/100\n",
      "205/204 [==============================] - 437s 2s/step - loss: 0.3822 - REGION_loss: 0.3227 - STATE_loss: 7.8503e-05 - COUNT_LINE_loss: 7.7947e-05 - REGION_acc: 0.9046 - STATE_acc: 1.0000 - COUNT_LINE_acc: 1.0000 - val_loss: 0.3596 - val_REGION_loss: 0.3002 - val_STATE_loss: 7.4360e-05 - val_COUNT_LINE_loss: 7.3812e-05 - val_REGION_acc: 0.9188 - val_STATE_acc: 1.0000 - val_COUNT_LINE_acc: 1.0000\n",
      "Epoch 33/100\n",
      "205/204 [==============================] - 442s 2s/step - loss: 0.3689 - REGION_loss: 0.3096 - STATE_loss: 7.0504e-05 - COUNT_LINE_loss: 6.9979e-05 - REGION_acc: 0.9092 - STATE_acc: 1.0000 - COUNT_LINE_acc: 1.0000 - val_loss: 0.3076 - val_REGION_loss: 0.2484 - val_STATE_loss: 6.6786e-05 - val_COUNT_LINE_loss: 6.6285e-05 - val_REGION_acc: 0.9334 - val_STATE_acc: 1.0000 - val_COUNT_LINE_acc: 1.0000\n",
      "Epoch 34/100\n",
      "205/204 [==============================] - 441s 2s/step - loss: 0.3546 - REGION_loss: 0.2955 - STATE_loss: 6.3318e-05 - COUNT_LINE_loss: 6.2825e-05 - REGION_acc: 0.9130 - STATE_acc: 1.0000 - COUNT_LINE_acc: 1.0000 - val_loss: 0.3394 - val_REGION_loss: 0.2804 - val_STATE_loss: 5.9988e-05 - val_COUNT_LINE_loss: 5.9518e-05 - val_REGION_acc: 0.9205 - val_STATE_acc: 1.0000 - val_COUNT_LINE_acc: 1.0000\n",
      "Epoch 35/100\n",
      "205/204 [==============================] - 456s 2s/step - loss: 0.3489 - REGION_loss: 0.2900 - STATE_loss: 5.6864e-05 - COUNT_LINE_loss: 5.6401e-05 - REGION_acc: 0.9133 - STATE_acc: 1.0000 - COUNT_LINE_acc: 1.0000 - val_loss: 0.3047 - val_REGION_loss: 0.2459 - val_STATE_loss: 5.3881e-05 - val_COUNT_LINE_loss: 5.3429e-05 - val_REGION_acc: 0.9314 - val_STATE_acc: 1.0000 - val_COUNT_LINE_acc: 1.0000\n",
      "Epoch 36/100\n",
      "205/204 [==============================] - 454s 2s/step - loss: 0.3376 - REGION_loss: 0.2789 - STATE_loss: 5.1063e-05 - COUNT_LINE_loss: 5.0631e-05 - REGION_acc: 0.9182 - STATE_acc: 1.0000 - COUNT_LINE_acc: 1.0000 - val_loss: 0.3045 - val_REGION_loss: 0.2459 - val_STATE_loss: 4.8337e-05 - val_COUNT_LINE_loss: 4.7975e-05 - val_REGION_acc: 0.9266 - val_STATE_acc: 1.0000 - val_COUNT_LINE_acc: 1.0000\n",
      "Epoch 37/100\n",
      "205/204 [==============================] - 457s 2s/step - loss: 0.3357 - REGION_loss: 0.2773 - STATE_loss: 4.5850e-05 - COUNT_LINE_loss: 4.5449e-05 - REGION_acc: 0.9191 - STATE_acc: 1.0000 - COUNT_LINE_acc: 1.0000 - val_loss: 0.2889 - val_REGION_loss: 0.2306 - val_STATE_loss: 4.3439e-05 - val_COUNT_LINE_loss: 4.3028e-05 - val_REGION_acc: 0.9331 - val_STATE_acc: 1.0000 - val_COUNT_LINE_acc: 1.0000\n",
      "Epoch 38/100\n",
      "205/204 [==============================] - 451s 2s/step - loss: 0.3219 - REGION_loss: 0.2638 - STATE_loss: 4.1165e-05 - COUNT_LINE_loss: 4.0792e-05 - REGION_acc: 0.9239 - STATE_acc: 1.0000 - COUNT_LINE_acc: 1.0000 - val_loss: 0.3116 - val_REGION_loss: 0.2535 - val_STATE_loss: 3.8994e-05 - val_COUNT_LINE_loss: 3.8622e-05 - val_REGION_acc: 0.9249 - val_STATE_acc: 1.0000 - val_COUNT_LINE_acc: 1.0000\n",
      "Epoch 39/100\n",
      "205/204 [==============================] - 463s 2s/step - loss: 0.3272 - REGION_loss: 0.2694 - STATE_loss: 3.6954e-05 - COUNT_LINE_loss: 3.6610e-05 - REGION_acc: 0.9215 - STATE_acc: 1.0000 - COUNT_LINE_acc: 1.0000 - val_loss: 0.2943 - val_REGION_loss: 0.2366 - val_STATE_loss: 3.4997e-05 - val_COUNT_LINE_loss: 3.4679e-05 - val_REGION_acc: 0.9327 - val_STATE_acc: 1.0000 - val_COUNT_LINE_acc: 1.0000\n",
      "Epoch 40/100\n",
      "205/204 [==============================] - 457s 2s/step - loss: 0.3129 - REGION_loss: 0.2553 - STATE_loss: 3.3168e-05 - COUNT_LINE_loss: 3.2851e-05 - REGION_acc: 0.9255 - STATE_acc: 1.0000 - COUNT_LINE_acc: 1.0000 - val_loss: 0.2840 - val_REGION_loss: 0.2265 - val_STATE_loss: 3.1416e-05 - val_COUNT_LINE_loss: 3.1099e-05 - val_REGION_acc: 0.9317 - val_STATE_acc: 1.0000 - val_COUNT_LINE_acc: 1.0000\n"
     ]
    },
    {
     "name": "stdout",
     "output_type": "stream",
     "text": [
      "Epoch 41/100\n",
      "205/204 [==============================] - 447s 2s/step - loss: 0.3086 - REGION_loss: 0.2513 - STATE_loss: 2.9764e-05 - COUNT_LINE_loss: 2.9473e-05 - REGION_acc: 0.9274 - STATE_acc: 1.0000 - COUNT_LINE_acc: 1.0000 - val_loss: 0.2778 - val_REGION_loss: 0.2206 - val_STATE_loss: 2.8199e-05 - val_COUNT_LINE_loss: 2.7890e-05 - val_REGION_acc: 0.9327 - val_STATE_acc: 1.0000 - val_COUNT_LINE_acc: 1.0000\n",
      "Epoch 42/100\n",
      "205/204 [==============================] - 445s 2s/step - loss: 0.3016 - REGION_loss: 0.2446 - STATE_loss: 2.6705e-05 - COUNT_LINE_loss: 2.6437e-05 - REGION_acc: 0.9258 - STATE_acc: 1.0000 - COUNT_LINE_acc: 1.0000 - val_loss: 0.2784 - val_REGION_loss: 0.2215 - val_STATE_loss: 2.5270e-05 - val_COUNT_LINE_loss: 2.5018e-05 - val_REGION_acc: 0.9436 - val_STATE_acc: 1.0000 - val_COUNT_LINE_acc: 1.0000\n",
      "Epoch 43/100\n",
      "205/204 [==============================] - 444s 2s/step - loss: 0.2918 - REGION_loss: 0.2350 - STATE_loss: 2.3952e-05 - COUNT_LINE_loss: 2.3709e-05 - REGION_acc: 0.9315 - STATE_acc: 1.0000 - COUNT_LINE_acc: 1.0000 - val_loss: 0.2950 - val_REGION_loss: 0.2384 - val_STATE_loss: 2.2662e-05 - val_COUNT_LINE_loss: 2.2409e-05 - val_REGION_acc: 0.9365 - val_STATE_acc: 1.0000 - val_COUNT_LINE_acc: 1.0000\n",
      "Epoch 44/100\n",
      "205/204 [==============================] - 446s 2s/step - loss: 0.2827 - REGION_loss: 0.2262 - STATE_loss: 2.1478e-05 - COUNT_LINE_loss: 2.1259e-05 - REGION_acc: 0.9371 - STATE_acc: 1.0000 - COUNT_LINE_acc: 1.0000 - val_loss: 0.2759 - val_REGION_loss: 0.2195 - val_STATE_loss: 2.0352e-05 - val_COUNT_LINE_loss: 1.9859e-05 - val_REGION_acc: 0.9409 - val_STATE_acc: 1.0000 - val_COUNT_LINE_acc: 1.0000\n",
      "Epoch 45/100\n",
      "205/204 [==============================] - 455s 2s/step - loss: 0.2789 - REGION_loss: 0.2226 - STATE_loss: 1.9255e-05 - COUNT_LINE_loss: 1.9052e-05 - REGION_acc: 0.9328 - STATE_acc: 1.0000 - COUNT_LINE_acc: 1.0000 - val_loss: 0.2746 - val_REGION_loss: 0.2185 - val_STATE_loss: 1.8227e-05 - val_COUNT_LINE_loss: 1.7998e-05 - val_REGION_acc: 0.9331 - val_STATE_acc: 1.0000 - val_COUNT_LINE_acc: 1.0000\n",
      "Epoch 46/100\n",
      "205/204 [==============================] - 453s 2s/step - loss: 0.2645 - REGION_loss: 0.2085 - STATE_loss: 1.7255e-05 - COUNT_LINE_loss: 1.7073e-05 - REGION_acc: 0.9398 - STATE_acc: 1.0000 - COUNT_LINE_acc: 1.0000 - val_loss: 0.2737 - val_REGION_loss: 0.2178 - val_STATE_loss: 1.6311e-05 - val_COUNT_LINE_loss: 1.6136e-05 - val_REGION_acc: 0.9419 - val_STATE_acc: 1.0000 - val_COUNT_LINE_acc: 1.0000\n",
      "Epoch 47/100\n",
      "205/204 [==============================] - 437s 2s/step - loss: 0.2678 - REGION_loss: 0.2121 - STATE_loss: 1.5454e-05 - COUNT_LINE_loss: 1.5291e-05 - REGION_acc: 0.9387 - STATE_acc: 1.0000 - COUNT_LINE_acc: 1.0000 - val_loss: 0.2477 - val_REGION_loss: 0.1921 - val_STATE_loss: 1.4624e-05 - val_COUNT_LINE_loss: 1.4650e-05 - val_REGION_acc: 0.9467 - val_STATE_acc: 1.0000 - val_COUNT_LINE_acc: 1.0000\n",
      "Epoch 48/100\n",
      "205/204 [==============================] - 459s 2s/step - loss: 0.2616 - REGION_loss: 0.2062 - STATE_loss: 1.3834e-05 - COUNT_LINE_loss: 1.3690e-05 - REGION_acc: 0.9419 - STATE_acc: 1.0000 - COUNT_LINE_acc: 1.0000 - val_loss: 0.2588 - val_REGION_loss: 0.2035 - val_STATE_loss: 1.3090e-05 - val_COUNT_LINE_loss: 1.2985e-05 - val_REGION_acc: 0.9419 - val_STATE_acc: 1.0000 - val_COUNT_LINE_acc: 1.0000\n",
      "Epoch 49/100\n",
      "205/204 [==============================] - 455s 2s/step - loss: 0.2555 - REGION_loss: 0.2004 - STATE_loss: 1.2377e-05 - COUNT_LINE_loss: 1.2246e-05 - REGION_acc: 0.9405 - STATE_acc: 1.0000 - COUNT_LINE_acc: 1.0000 - val_loss: 0.2742 - val_REGION_loss: 0.2193 - val_STATE_loss: 1.1680e-05 - val_COUNT_LINE_loss: 1.1559e-05 - val_REGION_acc: 0.9412 - val_STATE_acc: 1.0000 - val_COUNT_LINE_acc: 1.0000\n",
      "Epoch 50/100\n",
      "205/204 [==============================] - 463s 2s/step - loss: 0.2486 - REGION_loss: 0.1938 - STATE_loss: 1.1065e-05 - COUNT_LINE_loss: 1.0953e-05 - REGION_acc: 0.9448 - STATE_acc: 1.0000 - COUNT_LINE_acc: 1.0000 - val_loss: 0.2536 - val_REGION_loss: 0.1989 - val_STATE_loss: 1.0445e-05 - val_COUNT_LINE_loss: 1.0365e-05 - val_REGION_acc: 0.9406 - val_STATE_acc: 1.0000 - val_COUNT_LINE_acc: 1.0000\n",
      "Epoch 51/100\n",
      "205/204 [==============================] - 488s 2s/step - loss: 0.2530 - REGION_loss: 0.1985 - STATE_loss: 9.8799e-06 - COUNT_LINE_loss: 9.7815e-06 - REGION_acc: 0.9426 - STATE_acc: 1.0000 - COUNT_LINE_acc: 1.0000 - val_loss: 0.2346 - val_REGION_loss: 0.1802 - val_STATE_loss: 9.5132e-06 - val_COUNT_LINE_loss: 9.2739e-06 - val_REGION_acc: 0.9484 - val_STATE_acc: 1.0000 - val_COUNT_LINE_acc: 1.0000\n",
      "Epoch 52/100\n",
      "205/204 [==============================] - 456s 2s/step - loss: 0.2397 - REGION_loss: 0.1855 - STATE_loss: 8.8139e-06 - COUNT_LINE_loss: 8.7254e-06 - REGION_acc: 0.9468 - STATE_acc: 1.0000 - COUNT_LINE_acc: 1.0000 - val_loss: 0.2400 - val_REGION_loss: 0.1860 - val_STATE_loss: 8.3433e-06 - val_COUNT_LINE_loss: 8.2252e-06 - val_REGION_acc: 0.9470 - val_STATE_acc: 1.0000 - val_COUNT_LINE_acc: 1.0000\n",
      "Epoch 53/100\n",
      "205/204 [==============================] - 441s 2s/step - loss: 0.2364 - REGION_loss: 0.1826 - STATE_loss: 7.8445e-06 - COUNT_LINE_loss: 7.7781e-06 - REGION_acc: 0.9475 - STATE_acc: 1.0000 - COUNT_LINE_acc: 1.0000 - val_loss: 0.2537 - val_REGION_loss: 0.2000 - val_STATE_loss: 7.3908e-06 - val_COUNT_LINE_loss: 7.0328e-06 - val_REGION_acc: 0.9392 - val_STATE_acc: 1.0000 - val_COUNT_LINE_acc: 1.0000\n",
      "Epoch 54/100\n",
      "205/204 [==============================] - 445s 2s/step - loss: 0.2309 - REGION_loss: 0.1774 - STATE_loss: 6.9714e-06 - COUNT_LINE_loss: 6.9141e-06 - REGION_acc: 0.9476 - STATE_acc: 1.0000 - COUNT_LINE_acc: 1.0000 - val_loss: 0.2418 - val_REGION_loss: 0.1884 - val_STATE_loss: 6.5562e-06 - val_COUNT_LINE_loss: 6.5518e-06 - val_REGION_acc: 0.9443 - val_STATE_acc: 1.0000 - val_COUNT_LINE_acc: 1.0000\n",
      "Epoch 55/100\n",
      "205/204 [==============================] - 460s 2s/step - loss: 0.2351 - REGION_loss: 0.1819 - STATE_loss: 6.1775e-06 - COUNT_LINE_loss: 6.1277e-06 - REGION_acc: 0.9480 - STATE_acc: 1.0000 - COUNT_LINE_acc: 1.0000 - val_loss: 0.2406 - val_REGION_loss: 0.1875 - val_STATE_loss: 5.8373e-06 - val_COUNT_LINE_loss: 5.7217e-06 - val_REGION_acc: 0.9487 - val_STATE_acc: 1.0000 - val_COUNT_LINE_acc: 1.0000\n",
      "Epoch 56/100\n",
      "205/204 [==============================] - 483s 2s/step - loss: 0.2342 - REGION_loss: 0.1812 - STATE_loss: 5.4493e-06 - COUNT_LINE_loss: 5.4136e-06 - REGION_acc: 0.9488 - STATE_acc: 1.0000 - COUNT_LINE_acc: 1.0000 - val_loss: 0.2512 - val_REGION_loss: 0.1984 - val_STATE_loss: 5.0067e-06 - val_COUNT_LINE_loss: 5.1242e-06 - val_REGION_acc: 0.9453 - val_STATE_acc: 1.0000 - val_COUNT_LINE_acc: 1.0000\n",
      "Epoch 57/100\n",
      "205/204 [==============================] - 466s 2s/step - loss: 0.2264 - REGION_loss: 0.1736 - STATE_loss: 4.7884e-06 - COUNT_LINE_loss: 4.7590e-06 - REGION_acc: 0.9486 - STATE_acc: 1.0000 - COUNT_LINE_acc: 1.0000 - val_loss: 0.2369 - val_REGION_loss: 0.1843 - val_STATE_loss: 4.4984e-06 - val_COUNT_LINE_loss: 4.4108e-06 - val_REGION_acc: 0.9450 - val_STATE_acc: 1.0000 - val_COUNT_LINE_acc: 1.0000\n",
      "Epoch 58/100\n",
      "205/204 [==============================] - 468s 2s/step - loss: 0.2113 - REGION_loss: 0.1588 - STATE_loss: 4.1760e-06 - COUNT_LINE_loss: 4.1558e-06 - REGION_acc: 0.9534 - STATE_acc: 1.0000 - COUNT_LINE_acc: 1.0000 - val_loss: 0.2445 - val_REGION_loss: 0.1922 - val_STATE_loss: 3.9338e-06 - val_COUNT_LINE_loss: 3.8147e-06 - val_REGION_acc: 0.9443 - val_STATE_acc: 1.0000 - val_COUNT_LINE_acc: 1.0000\n",
      "Epoch 59/100\n",
      "205/204 [==============================] - 481s 2s/step - loss: 0.2172 - REGION_loss: 0.1650 - STATE_loss: 3.6108e-06 - COUNT_LINE_loss: 3.5973e-06 - REGION_acc: 0.9532 - STATE_acc: 1.0000 - COUNT_LINE_acc: 1.0000 - val_loss: 0.2556 - val_REGION_loss: 0.2036 - val_STATE_loss: 3.3379e-06 - val_COUNT_LINE_loss: 3.3379e-06 - val_REGION_acc: 0.9423 - val_STATE_acc: 1.0000 - val_COUNT_LINE_acc: 1.0000\n",
      "Epoch 60/100\n",
      "205/204 [==============================] - 480s 2s/step - loss: 0.2109 - REGION_loss: 0.1591 - STATE_loss: 3.0901e-06 - COUNT_LINE_loss: 3.0848e-06 - REGION_acc: 0.9548 - STATE_acc: 1.0000 - COUNT_LINE_acc: 1.0000 - val_loss: 0.2511 - val_REGION_loss: 0.1994 - val_STATE_loss: 2.8610e-06 - val_COUNT_LINE_loss: 2.8610e-06 - val_REGION_acc: 0.9467 - val_STATE_acc: 1.0000 - val_COUNT_LINE_acc: 1.0000\n"
     ]
    },
    {
     "name": "stdout",
     "output_type": "stream",
     "text": [
      "Epoch 61/100\n",
      "205/204 [==============================] - 460s 2s/step - loss: 0.2168 - REGION_loss: 0.1652 - STATE_loss: 2.6081e-06 - COUNT_LINE_loss: 2.6063e-06 - REGION_acc: 0.9524 - STATE_acc: 1.0000 - COUNT_LINE_acc: 1.0000 - val_loss: 0.2224 - val_REGION_loss: 0.1711 - val_STATE_loss: 2.3842e-06 - val_COUNT_LINE_loss: 2.3842e-06 - val_REGION_acc: 0.9535 - val_STATE_acc: 1.0000 - val_COUNT_LINE_acc: 1.0000\n",
      "Epoch 62/100\n",
      "205/204 [==============================] - 464s 2s/step - loss: 0.2082 - REGION_loss: 0.1570 - STATE_loss: 2.1730e-06 - COUNT_LINE_loss: 2.1704e-06 - REGION_acc: 0.9558 - STATE_acc: 1.0000 - COUNT_LINE_acc: 1.0000 - val_loss: 0.2301 - val_REGION_loss: 0.1791 - val_STATE_loss: 1.9074e-06 - val_COUNT_LINE_loss: 1.9074e-06 - val_REGION_acc: 0.9548 - val_STATE_acc: 1.0000 - val_COUNT_LINE_acc: 1.0000\n",
      "Epoch 63/100\n",
      "205/204 [==============================] - 434s 2s/step - loss: 0.1999 - REGION_loss: 0.1490 - STATE_loss: 1.7742e-06 - COUNT_LINE_loss: 1.7649e-06 - REGION_acc: 0.9580 - STATE_acc: 1.0000 - COUNT_LINE_acc: 1.0000 - val_loss: 0.2864 - val_REGION_loss: 0.2356 - val_STATE_loss: 1.5497e-06 - val_COUNT_LINE_loss: 1.5497e-06 - val_REGION_acc: 0.9351 - val_STATE_acc: 1.0000 - val_COUNT_LINE_acc: 1.0000\n",
      "Epoch 64/100\n",
      "205/204 [==============================] - 434s 2s/step - loss: 0.1996 - REGION_loss: 0.1489 - STATE_loss: 1.4247e-06 - COUNT_LINE_loss: 1.4142e-06 - REGION_acc: 0.9577 - STATE_acc: 1.0000 - COUNT_LINE_acc: 1.0000 - val_loss: 0.2182 - val_REGION_loss: 0.1677 - val_STATE_loss: 1.3113e-06 - val_COUNT_LINE_loss: 1.1921e-06 - val_REGION_acc: 0.9474 - val_STATE_acc: 1.0000 - val_COUNT_LINE_acc: 1.0000\n",
      "Epoch 65/100\n",
      "205/204 [==============================] - 436s 2s/step - loss: 0.1992 - REGION_loss: 0.1488 - STATE_loss: 1.1141e-06 - COUNT_LINE_loss: 1.0975e-06 - REGION_acc: 0.9563 - STATE_acc: 1.0000 - COUNT_LINE_acc: 1.0000 - val_loss: 0.2328 - val_REGION_loss: 0.1825 - val_STATE_loss: 9.5367e-07 - val_COUNT_LINE_loss: 9.5367e-07 - val_REGION_acc: 0.9541 - val_STATE_acc: 1.0000 - val_COUNT_LINE_acc: 1.0000\n",
      "Epoch 66/100\n",
      "205/204 [==============================] - 443s 2s/step - loss: 0.2058 - REGION_loss: 0.1557 - STATE_loss: 8.6059e-07 - COUNT_LINE_loss: 8.4560e-07 - REGION_acc: 0.9556 - STATE_acc: 1.0000 - COUNT_LINE_acc: 1.0000 - val_loss: 0.2258 - val_REGION_loss: 0.1758 - val_STATE_loss: 7.1526e-07 - val_COUNT_LINE_loss: 7.1526e-07 - val_REGION_acc: 0.9507 - val_STATE_acc: 1.0000 - val_COUNT_LINE_acc: 1.0000\n",
      "Epoch 67/100\n",
      "205/204 [==============================] - 429s 2s/step - loss: 0.1906 - REGION_loss: 0.1408 - STATE_loss: 6.5235e-07 - COUNT_LINE_loss: 6.4368e-07 - REGION_acc: 0.9610 - STATE_acc: 1.0000 - COUNT_LINE_acc: 1.0000 - val_loss: 0.2277 - val_REGION_loss: 0.1781 - val_STATE_loss: 5.9605e-07 - val_COUNT_LINE_loss: 5.9605e-07 - val_REGION_acc: 0.9433 - val_STATE_acc: 1.0000 - val_COUNT_LINE_acc: 1.0000\n",
      "Epoch 68/100\n",
      "205/204 [==============================] - 433s 2s/step - loss: 0.2027 - REGION_loss: 0.1532 - STATE_loss: 4.9819e-07 - COUNT_LINE_loss: 4.8523e-07 - REGION_acc: 0.9560 - STATE_acc: 1.0000 - COUNT_LINE_acc: 1.0000 - val_loss: 0.2033 - val_REGION_loss: 0.1539 - val_STATE_loss: 4.7684e-07 - val_COUNT_LINE_loss: 3.5763e-07 - val_REGION_acc: 0.9528 - val_STATE_acc: 1.0000 - val_COUNT_LINE_acc: 1.0000\n",
      "Epoch 69/100\n",
      "205/204 [==============================] - 435s 2s/step - loss: 0.1888 - REGION_loss: 0.1395 - STATE_loss: 3.6445e-07 - COUNT_LINE_loss: 3.5763e-07 - REGION_acc: 0.9596 - STATE_acc: 1.0000 - COUNT_LINE_acc: 1.0000 - val_loss: 0.2279 - val_REGION_loss: 0.1787 - val_STATE_loss: 3.5763e-07 - val_COUNT_LINE_loss: 3.5763e-07 - val_REGION_acc: 0.9507 - val_STATE_acc: 1.0000 - val_COUNT_LINE_acc: 1.0000\n",
      "Epoch 70/100\n",
      "205/204 [==============================] - 432s 2s/step - loss: 0.1891 - REGION_loss: 0.1400 - STATE_loss: 2.6808e-07 - COUNT_LINE_loss: 2.5694e-07 - REGION_acc: 0.9611 - STATE_acc: 1.0000 - COUNT_LINE_acc: 1.0000 - val_loss: 0.2151 - val_REGION_loss: 0.1661 - val_STATE_loss: 2.3842e-07 - val_COUNT_LINE_loss: 2.3842e-07 - val_REGION_acc: 0.9501 - val_STATE_acc: 1.0000 - val_COUNT_LINE_acc: 1.0000\n",
      "Epoch 71/100\n",
      "205/204 [==============================] - 433s 2s/step - loss: 0.1865 - REGION_loss: 0.1377 - STATE_loss: 2.3842e-07 - COUNT_LINE_loss: 2.3842e-07 - REGION_acc: 0.9594 - STATE_acc: 1.0000 - COUNT_LINE_acc: 1.0000 - val_loss: 0.2349 - val_REGION_loss: 0.1862 - val_STATE_loss: 2.3842e-07 - val_COUNT_LINE_loss: 2.3842e-07 - val_REGION_acc: 0.9470 - val_STATE_acc: 1.0000 - val_COUNT_LINE_acc: 1.0000\n",
      "Epoch 72/100\n",
      "205/204 [==============================] - 436s 2s/step - loss: 0.1838 - REGION_loss: 0.1353 - STATE_loss: 1.3898e-07 - COUNT_LINE_loss: 1.2619e-07 - REGION_acc: 0.9606 - STATE_acc: 1.0000 - COUNT_LINE_acc: 1.0000 - val_loss: 0.2213 - val_REGION_loss: 0.1728 - val_STATE_loss: 1.1921e-07 - val_COUNT_LINE_loss: 1.1921e-07 - val_REGION_acc: 0.9507 - val_STATE_acc: 1.0000 - val_COUNT_LINE_acc: 1.0000\n",
      "Epoch 73/100\n",
      "205/204 [==============================] - 431s 2s/step - loss: 0.1745 - REGION_loss: 0.1262 - STATE_loss: 1.1921e-07 - COUNT_LINE_loss: 1.1921e-07 - REGION_acc: 0.9652 - STATE_acc: 1.0000 - COUNT_LINE_acc: 1.0000 - val_loss: 0.2299 - val_REGION_loss: 0.1817 - val_STATE_loss: 1.1921e-07 - val_COUNT_LINE_loss: 1.1921e-07 - val_REGION_acc: 0.9552 - val_STATE_acc: 1.0000 - val_COUNT_LINE_acc: 1.0000\n",
      "Epoch 74/100\n",
      "205/204 [==============================] - 431s 2s/step - loss: 0.1895 - REGION_loss: 0.1415 - STATE_loss: 1.1921e-07 - COUNT_LINE_loss: 1.1921e-07 - REGION_acc: 0.9598 - STATE_acc: 1.0000 - COUNT_LINE_acc: 1.0000 - val_loss: 0.2041 - val_REGION_loss: 0.1561 - val_STATE_loss: 1.1921e-07 - val_COUNT_LINE_loss: 1.1921e-07 - val_REGION_acc: 0.9552 - val_STATE_acc: 1.0000 - val_COUNT_LINE_acc: 1.0000\n",
      "Epoch 75/100\n",
      "205/204 [==============================] - 434s 2s/step - loss: 0.1862 - REGION_loss: 0.1384 - STATE_loss: 1.1921e-07 - COUNT_LINE_loss: 1.1921e-07 - REGION_acc: 0.9604 - STATE_acc: 1.0000 - COUNT_LINE_acc: 1.0000 - val_loss: 0.1932 - val_REGION_loss: 0.1455 - val_STATE_loss: 1.1921e-07 - val_COUNT_LINE_loss: 1.1921e-07 - val_REGION_acc: 0.9582 - val_STATE_acc: 1.0000 - val_COUNT_LINE_acc: 1.0000\n",
      "Epoch 76/100\n",
      "205/204 [==============================] - 436s 2s/step - loss: 0.1776 - REGION_loss: 0.1299 - STATE_loss: 1.1921e-07 - COUNT_LINE_loss: 1.1921e-07 - REGION_acc: 0.9620 - STATE_acc: 1.0000 - COUNT_LINE_acc: 1.0000 - val_loss: 0.2218 - val_REGION_loss: 0.1743 - val_STATE_loss: 1.1921e-07 - val_COUNT_LINE_loss: 1.1921e-07 - val_REGION_acc: 0.9528 - val_STATE_acc: 1.0000 - val_COUNT_LINE_acc: 1.0000\n",
      "Epoch 77/100\n",
      "205/204 [==============================] - 437s 2s/step - loss: 0.1812 - REGION_loss: 0.1339 - STATE_loss: 1.1921e-07 - COUNT_LINE_loss: 1.1921e-07 - REGION_acc: 0.9609 - STATE_acc: 1.0000 - COUNT_LINE_acc: 1.0000 - val_loss: 0.2059 - val_REGION_loss: 0.1586 - val_STATE_loss: 1.1921e-07 - val_COUNT_LINE_loss: 1.1921e-07 - val_REGION_acc: 0.9572 - val_STATE_acc: 1.0000 - val_COUNT_LINE_acc: 1.0000\n",
      "Epoch 78/100\n",
      "205/204 [==============================] - 424s 2s/step - loss: 0.1761 - REGION_loss: 0.1290 - STATE_loss: 1.1921e-07 - COUNT_LINE_loss: 1.1921e-07 - REGION_acc: 0.9640 - STATE_acc: 1.0000 - COUNT_LINE_acc: 1.0000 - val_loss: 0.2238 - val_REGION_loss: 0.1768 - val_STATE_loss: 1.1921e-07 - val_COUNT_LINE_loss: 1.1921e-07 - val_REGION_acc: 0.9497 - val_STATE_acc: 1.0000 - val_COUNT_LINE_acc: 1.0000\n",
      "Epoch 79/100\n",
      "205/204 [==============================] - 435s 2s/step - loss: 0.1634 - REGION_loss: 0.1165 - STATE_loss: 1.1921e-07 - COUNT_LINE_loss: 1.1921e-07 - REGION_acc: 0.9678 - STATE_acc: 1.0000 - COUNT_LINE_acc: 1.0000 - val_loss: 0.2123 - val_REGION_loss: 0.1655 - val_STATE_loss: 1.1921e-07 - val_COUNT_LINE_loss: 1.1921e-07 - val_REGION_acc: 0.9555 - val_STATE_acc: 1.0000 - val_COUNT_LINE_acc: 1.0000\n",
      "Epoch 80/100\n",
      "205/204 [==============================] - 432s 2s/step - loss: 0.1682 - REGION_loss: 0.1215 - STATE_loss: 1.1921e-07 - COUNT_LINE_loss: 1.1921e-07 - REGION_acc: 0.9651 - STATE_acc: 1.0000 - COUNT_LINE_acc: 1.0000 - val_loss: 0.2008 - val_REGION_loss: 0.1543 - val_STATE_loss: 1.1921e-07 - val_COUNT_LINE_loss: 1.1921e-07 - val_REGION_acc: 0.9592 - val_STATE_acc: 1.0000 - val_COUNT_LINE_acc: 1.0000\n"
     ]
    },
    {
     "name": "stdout",
     "output_type": "stream",
     "text": [
      "Epoch 81/100\n",
      "205/204 [==============================] - 434s 2s/step - loss: 0.1672 - REGION_loss: 0.1208 - STATE_loss: 1.1921e-07 - COUNT_LINE_loss: 1.1921e-07 - REGION_acc: 0.9661 - STATE_acc: 1.0000 - COUNT_LINE_acc: 1.0000 - val_loss: 0.2198 - val_REGION_loss: 0.1735 - val_STATE_loss: 1.1921e-07 - val_COUNT_LINE_loss: 1.1921e-07 - val_REGION_acc: 0.9497 - val_STATE_acc: 1.0000 - val_COUNT_LINE_acc: 1.0000\n",
      "Epoch 82/100\n",
      "205/204 [==============================] - 430s 2s/step - loss: 0.1778 - REGION_loss: 0.1316 - STATE_loss: 1.1921e-07 - COUNT_LINE_loss: 1.1921e-07 - REGION_acc: 0.9620 - STATE_acc: 1.0000 - COUNT_LINE_acc: 1.0000 - val_loss: 0.1852 - val_REGION_loss: 0.1390 - val_STATE_loss: 1.1921e-07 - val_COUNT_LINE_loss: 1.1921e-07 - val_REGION_acc: 0.9620 - val_STATE_acc: 1.0000 - val_COUNT_LINE_acc: 1.0000\n",
      "Epoch 83/100\n",
      "205/204 [==============================] - 433s 2s/step - loss: 0.1607 - REGION_loss: 0.1147 - STATE_loss: 1.1921e-07 - COUNT_LINE_loss: 1.1921e-07 - REGION_acc: 0.9661 - STATE_acc: 1.0000 - COUNT_LINE_acc: 1.0000 - val_loss: 0.2137 - val_REGION_loss: 0.1678 - val_STATE_loss: 1.1921e-07 - val_COUNT_LINE_loss: 1.1921e-07 - val_REGION_acc: 0.9528 - val_STATE_acc: 1.0000 - val_COUNT_LINE_acc: 1.0000\n",
      "Epoch 84/100\n",
      "205/204 [==============================] - 434s 2s/step - loss: 0.1667 - REGION_loss: 0.1209 - STATE_loss: 1.1921e-07 - COUNT_LINE_loss: 1.1921e-07 - REGION_acc: 0.9668 - STATE_acc: 1.0000 - COUNT_LINE_acc: 1.0000 - val_loss: 0.2026 - val_REGION_loss: 0.1570 - val_STATE_loss: 1.1921e-07 - val_COUNT_LINE_loss: 1.1921e-07 - val_REGION_acc: 0.9572 - val_STATE_acc: 1.0000 - val_COUNT_LINE_acc: 1.0000\n",
      "Epoch 85/100\n",
      "205/204 [==============================] - 433s 2s/step - loss: 0.1694 - REGION_loss: 0.1239 - STATE_loss: 1.1921e-07 - COUNT_LINE_loss: 1.1921e-07 - REGION_acc: 0.9653 - STATE_acc: 1.0000 - COUNT_LINE_acc: 1.0000 - val_loss: 0.1967 - val_REGION_loss: 0.1513 - val_STATE_loss: 1.1921e-07 - val_COUNT_LINE_loss: 1.1921e-07 - val_REGION_acc: 0.9575 - val_STATE_acc: 1.0000 - val_COUNT_LINE_acc: 1.0000\n",
      "Epoch 86/100\n",
      "205/204 [==============================] - 431s 2s/step - loss: 0.1559 - REGION_loss: 0.1106 - STATE_loss: 1.1921e-07 - COUNT_LINE_loss: 1.1921e-07 - REGION_acc: 0.9700 - STATE_acc: 1.0000 - COUNT_LINE_acc: 1.0000 - val_loss: 0.1940 - val_REGION_loss: 0.1488 - val_STATE_loss: 1.1921e-07 - val_COUNT_LINE_loss: 1.1921e-07 - val_REGION_acc: 0.9582 - val_STATE_acc: 1.0000 - val_COUNT_LINE_acc: 1.0000\n",
      "Epoch 87/100\n",
      "205/204 [==============================] - 429s 2s/step - loss: 0.1653 - REGION_loss: 0.1202 - STATE_loss: 1.1921e-07 - COUNT_LINE_loss: 1.1921e-07 - REGION_acc: 0.9661 - STATE_acc: 1.0000 - COUNT_LINE_acc: 1.0000 - val_loss: 0.1939 - val_REGION_loss: 0.1489 - val_STATE_loss: 1.1921e-07 - val_COUNT_LINE_loss: 1.1921e-07 - val_REGION_acc: 0.9565 - val_STATE_acc: 1.0000 - val_COUNT_LINE_acc: 1.0000\n",
      "Epoch 88/100\n",
      "205/204 [==============================] - 436s 2s/step - loss: 0.1636 - REGION_loss: 0.1187 - STATE_loss: 1.1921e-07 - COUNT_LINE_loss: 1.1921e-07 - REGION_acc: 0.9649 - STATE_acc: 1.0000 - COUNT_LINE_acc: 1.0000 - val_loss: 0.2072 - val_REGION_loss: 0.1624 - val_STATE_loss: 1.1921e-07 - val_COUNT_LINE_loss: 1.1921e-07 - val_REGION_acc: 0.9531 - val_STATE_acc: 1.0000 - val_COUNT_LINE_acc: 1.0000\n",
      "Epoch 89/100\n",
      "205/204 [==============================] - 436s 2s/step - loss: 0.1571 - REGION_loss: 0.1124 - STATE_loss: 1.1921e-07 - COUNT_LINE_loss: 1.1921e-07 - REGION_acc: 0.9690 - STATE_acc: 1.0000 - COUNT_LINE_acc: 1.0000 - val_loss: 0.1884 - val_REGION_loss: 0.1438 - val_STATE_loss: 1.1921e-07 - val_COUNT_LINE_loss: 1.1921e-07 - val_REGION_acc: 0.9630 - val_STATE_acc: 1.0000 - val_COUNT_LINE_acc: 1.0000\n",
      "Epoch 90/100\n",
      "205/204 [==============================] - 429s 2s/step - loss: 0.1603 - REGION_loss: 0.1158 - STATE_loss: 1.1921e-07 - COUNT_LINE_loss: 1.1921e-07 - REGION_acc: 0.9666 - STATE_acc: 1.0000 - COUNT_LINE_acc: 1.0000 - val_loss: 0.2114 - val_REGION_loss: 0.1669 - val_STATE_loss: 1.1921e-07 - val_COUNT_LINE_loss: 1.1921e-07 - val_REGION_acc: 0.9521 - val_STATE_acc: 1.0000 - val_COUNT_LINE_acc: 1.0000\n",
      "Epoch 91/100\n",
      "205/204 [==============================] - 436s 2s/step - loss: 0.1507 - REGION_loss: 0.1063 - STATE_loss: 1.1921e-07 - COUNT_LINE_loss: 1.1921e-07 - REGION_acc: 0.9694 - STATE_acc: 1.0000 - COUNT_LINE_acc: 1.0000 - val_loss: 0.1990 - val_REGION_loss: 0.1548 - val_STATE_loss: 1.1921e-07 - val_COUNT_LINE_loss: 1.1921e-07 - val_REGION_acc: 0.9575 - val_STATE_acc: 1.0000 - val_COUNT_LINE_acc: 1.0000\n",
      "Epoch 92/100\n",
      "205/204 [==============================] - 430s 2s/step - loss: 0.1543 - REGION_loss: 0.1102 - STATE_loss: 1.1921e-07 - COUNT_LINE_loss: 1.1921e-07 - REGION_acc: 0.9695 - STATE_acc: 1.0000 - COUNT_LINE_acc: 1.0000 - val_loss: 0.1876 - val_REGION_loss: 0.1436 - val_STATE_loss: 1.1921e-07 - val_COUNT_LINE_loss: 1.1921e-07 - val_REGION_acc: 0.9562 - val_STATE_acc: 1.0000 - val_COUNT_LINE_acc: 1.0000\n",
      "Epoch 93/100\n",
      "205/204 [==============================] - 425s 2s/step - loss: 0.1405 - REGION_loss: 0.0965 - STATE_loss: 1.1921e-07 - COUNT_LINE_loss: 1.1921e-07 - REGION_acc: 0.9739 - STATE_acc: 1.0000 - COUNT_LINE_acc: 1.0000 - val_loss: 0.1697 - val_REGION_loss: 0.1257 - val_STATE_loss: 1.1921e-07 - val_COUNT_LINE_loss: 1.1921e-07 - val_REGION_acc: 0.9667 - val_STATE_acc: 1.0000 - val_COUNT_LINE_acc: 1.0000\n",
      "Epoch 94/100\n",
      "205/204 [==============================] - 427s 2s/step - loss: 0.1312 - REGION_loss: 0.0873 - STATE_loss: 1.1921e-07 - COUNT_LINE_loss: 1.1921e-07 - REGION_acc: 0.9756 - STATE_acc: 1.0000 - COUNT_LINE_acc: 1.0000 - val_loss: 0.1647 - val_REGION_loss: 0.1207 - val_STATE_loss: 1.1921e-07 - val_COUNT_LINE_loss: 1.1921e-07 - val_REGION_acc: 0.9643 - val_STATE_acc: 1.0000 - val_COUNT_LINE_acc: 1.0000\n",
      "Epoch 95/100\n",
      "205/204 [==============================] - 428s 2s/step - loss: 0.1265 - REGION_loss: 0.0826 - STATE_loss: 1.1921e-07 - COUNT_LINE_loss: 1.1921e-07 - REGION_acc: 0.9789 - STATE_acc: 1.0000 - COUNT_LINE_acc: 1.0000 - val_loss: 0.1939 - val_REGION_loss: 0.1499 - val_STATE_loss: 1.1921e-07 - val_COUNT_LINE_loss: 1.1921e-07 - val_REGION_acc: 0.9592 - val_STATE_acc: 1.0000 - val_COUNT_LINE_acc: 1.0000\n",
      "Epoch 96/100\n",
      "205/204 [==============================] - 437s 2s/step - loss: 0.1290 - REGION_loss: 0.0851 - STATE_loss: 1.1921e-07 - COUNT_LINE_loss: 1.1921e-07 - REGION_acc: 0.9774 - STATE_acc: 1.0000 - COUNT_LINE_acc: 1.0000 - val_loss: 0.1699 - val_REGION_loss: 0.1260 - val_STATE_loss: 1.1921e-07 - val_COUNT_LINE_loss: 1.1921e-07 - val_REGION_acc: 0.9630 - val_STATE_acc: 1.0000 - val_COUNT_LINE_acc: 1.0000\n",
      "Epoch 97/100\n",
      "205/204 [==============================] - 434s 2s/step - loss: 0.1264 - REGION_loss: 0.0826 - STATE_loss: 1.1921e-07 - COUNT_LINE_loss: 1.1921e-07 - REGION_acc: 0.9774 - STATE_acc: 1.0000 - COUNT_LINE_acc: 1.0000 - val_loss: 0.1647 - val_REGION_loss: 0.1208 - val_STATE_loss: 1.1921e-07 - val_COUNT_LINE_loss: 1.1921e-07 - val_REGION_acc: 0.9660 - val_STATE_acc: 1.0000 - val_COUNT_LINE_acc: 1.0000\n",
      "Epoch 98/100\n",
      "205/204 [==============================] - 428s 2s/step - loss: 0.1283 - REGION_loss: 0.0844 - STATE_loss: 1.1921e-07 - COUNT_LINE_loss: 1.1921e-07 - REGION_acc: 0.9778 - STATE_acc: 1.0000 - COUNT_LINE_acc: 1.0000 - val_loss: 0.1650 - val_REGION_loss: 0.1212 - val_STATE_loss: 1.1921e-07 - val_COUNT_LINE_loss: 1.1921e-07 - val_REGION_acc: 0.9637 - val_STATE_acc: 1.0000 - val_COUNT_LINE_acc: 1.0000\n",
      "Epoch 99/100\n",
      "205/204 [==============================] - 431s 2s/step - loss: 0.1228 - REGION_loss: 0.0791 - STATE_loss: 1.1921e-07 - COUNT_LINE_loss: 1.1921e-07 - REGION_acc: 0.9789 - STATE_acc: 1.0000 - COUNT_LINE_acc: 1.0000 - val_loss: 0.1810 - val_REGION_loss: 0.1372 - val_STATE_loss: 1.1921e-07 - val_COUNT_LINE_loss: 1.1921e-07 - val_REGION_acc: 0.9620 - val_STATE_acc: 1.0000 - val_COUNT_LINE_acc: 1.0000\n",
      "Epoch 100/100\n",
      "205/204 [==============================] - 432s 2s/step - loss: 0.1279 - REGION_loss: 0.0841 - STATE_loss: 1.1921e-07 - COUNT_LINE_loss: 1.1921e-07 - REGION_acc: 0.9777 - STATE_acc: 1.0000 - COUNT_LINE_acc: 1.0000 - val_loss: 0.1765 - val_REGION_loss: 0.1328 - val_STATE_loss: 1.1921e-07 - val_COUNT_LINE_loss: 1.1921e-07 - val_REGION_acc: 0.9603 - val_STATE_acc: 1.0000 - val_COUNT_LINE_acc: 1.0000\n"
     ]
    },
    {
     "name": "stdout",
     "output_type": "stream",
     "text": [
      "test loss: 0.2435175525429456\n",
      "test loss: 0.19967701039074556    test loss: 1.1920928955078125e-07       test loss: 1.1920928955078125e-07\n",
      "test acc: 0.9459918478260869    test acc 1.0      test acc 1.0\n",
      "model save to /home/manapov/models/handwritten_options_2019_10_28.h5\n"
     ]
    }
   ],
   "source": [
    "# train\n",
    "model = numberClassificator.train(LOG_DIR, cnn=\"simple\")\n",
    "numberClassificator.test()\n",
    "RESULT_PATH = '/home/manapov/models/handwritten_options_2019_10_28.h5'\n",
    "numberClassificator.save(RESULT_PATH)"
   ]
  },
  {
   "cell_type": "code",
   "execution_count": 4,
   "metadata": {},
   "outputs": [
    {
     "ename": "AttributeError",
     "evalue": "'NoneType' object has no attribute 'evaluate_generator'",
     "output_type": "error",
     "traceback": [
      "\u001b[0;31m---------------------------------------------------------------------------\u001b[0m",
      "\u001b[0;31mAttributeError\u001b[0m                            Traceback (most recent call last)",
      "\u001b[0;32m<ipython-input-4-d719f1325770>\u001b[0m in \u001b[0;36m<module>\u001b[0;34m\u001b[0m\n\u001b[0;32m----> 1\u001b[0;31m \u001b[0mnumberClassificator\u001b[0m\u001b[0;34m.\u001b[0m\u001b[0mtest\u001b[0m\u001b[0;34m(\u001b[0m\u001b[0;34m)\u001b[0m\u001b[0;34m\u001b[0m\u001b[0;34m\u001b[0m\u001b[0m\n\u001b[0m",
      "\u001b[0;32m~/miniconda3/envs/nomeroff/lib/python3.6/site-packages/NomeroffNet/OptionsDetector.py\u001b[0m in \u001b[0;36mtest\u001b[0;34m(self)\u001b[0m\n\u001b[1;32m    250\u001b[0m \u001b[0;34m\u001b[0m\u001b[0m\n\u001b[1;32m    251\u001b[0m     \u001b[0;32mdef\u001b[0m \u001b[0mtest\u001b[0m\u001b[0;34m(\u001b[0m\u001b[0mself\u001b[0m\u001b[0;34m)\u001b[0m\u001b[0;34m:\u001b[0m\u001b[0;34m\u001b[0m\u001b[0;34m\u001b[0m\u001b[0m\n\u001b[0;32m--> 252\u001b[0;31m         \u001b[0mtest_loss\u001b[0m\u001b[0;34m,\u001b[0m \u001b[0mtest_loss1\u001b[0m\u001b[0;34m,\u001b[0m \u001b[0mtest_loss2\u001b[0m\u001b[0;34m,\u001b[0m \u001b[0mtest_loss3\u001b[0m\u001b[0;34m,\u001b[0m \u001b[0mtest_acc1\u001b[0m\u001b[0;34m,\u001b[0m \u001b[0mtest_acc2\u001b[0m\u001b[0;34m,\u001b[0m \u001b[0mtest_acc3\u001b[0m \u001b[0;34m=\u001b[0m \u001b[0mself\u001b[0m\u001b[0;34m.\u001b[0m\u001b[0mMODEL\u001b[0m\u001b[0;34m.\u001b[0m\u001b[0mevaluate_generator\u001b[0m\u001b[0;34m(\u001b[0m\u001b[0mself\u001b[0m\u001b[0;34m.\u001b[0m\u001b[0mtest_generator\u001b[0m\u001b[0;34m,\u001b[0m \u001b[0msteps\u001b[0m\u001b[0;34m=\u001b[0m\u001b[0mself\u001b[0m\u001b[0;34m.\u001b[0m\u001b[0mVALIDATION_STEPS\u001b[0m\u001b[0;34m)\u001b[0m\u001b[0;34m\u001b[0m\u001b[0;34m\u001b[0m\u001b[0m\n\u001b[0m\u001b[1;32m    253\u001b[0m         \u001b[0mprint\u001b[0m\u001b[0;34m(\u001b[0m\u001b[0;34m\"test loss: {}\"\u001b[0m\u001b[0;34m.\u001b[0m\u001b[0mformat\u001b[0m\u001b[0;34m(\u001b[0m\u001b[0mtest_loss\u001b[0m\u001b[0;34m)\u001b[0m\u001b[0;34m)\u001b[0m\u001b[0;34m\u001b[0m\u001b[0;34m\u001b[0m\u001b[0m\n\u001b[1;32m    254\u001b[0m         \u001b[0mprint\u001b[0m\u001b[0;34m(\u001b[0m\u001b[0;34m\"test loss: {}    test loss: {}       test loss: {}\"\u001b[0m\u001b[0;34m.\u001b[0m\u001b[0mformat\u001b[0m\u001b[0;34m(\u001b[0m\u001b[0mtest_loss1\u001b[0m\u001b[0;34m,\u001b[0m \u001b[0mtest_loss2\u001b[0m\u001b[0;34m,\u001b[0m \u001b[0mtest_loss3\u001b[0m\u001b[0;34m)\u001b[0m\u001b[0;34m)\u001b[0m\u001b[0;34m\u001b[0m\u001b[0;34m\u001b[0m\u001b[0m\n",
      "\u001b[0;31mAttributeError\u001b[0m: 'NoneType' object has no attribute 'evaluate_generator'"
     ]
    }
   ],
   "source": [
    "numberClassificator.test()"
   ]
  },
  {
   "cell_type": "code",
   "execution_count": 8,
   "metadata": {},
   "outputs": [],
   "source": [
    "RESULT_PATH = '/home/manapov/models/handwritten_options_2019_10_28.h5'"
   ]
  },
  {
   "cell_type": "code",
   "execution_count": 8,
   "metadata": {},
   "outputs": [
    {
     "name": "stdout",
     "output_type": "stream",
     "text": [
      "model save to /mnt/data/var/www/html2/js/nomeroff-net_2/models/numberplate_options_2019_05_20.h5\n"
     ]
    }
   ],
   "source": [
    "numberClassificator.save(RESULT_PATH)\n",
    "#model = numberClassificator.load(RESULT_PATH)"
   ]
  },
  {
   "cell_type": "markdown",
   "metadata": {},
   "source": [
    "### Convert keras options .h5 model to .pb graph"
   ]
  },
  {
   "cell_type": "code",
   "execution_count": 9,
   "metadata": {},
   "outputs": [
    {
     "name": "stdout",
     "output_type": "stream",
     "text": [
      "OUTPUT: REGION/Softmax,STATE/Softmax,COUNT_LINE/Softmax\n",
      "INPUT: input_1\n",
      "__________________________________________________________________________________________________\n",
      "Layer (type)                    Output Shape         Param #     Connected to                     \n",
      "==================================================================================================\n",
      "input_1 (InputLayer)            (None, 64, 295, 3)   0                                            \n",
      "__________________________________________________________________________________________________\n",
      "conv2d_1 (Conv2D)               (None, 62, 293, 32)  896         input_1[0][0]                    \n",
      "__________________________________________________________________________________________________\n",
      "max_pooling2d_1 (MaxPooling2D)  (None, 31, 146, 32)  0           conv2d_1[0][0]                   \n",
      "__________________________________________________________________________________________________\n",
      "conv2d_2 (Conv2D)               (None, 29, 144, 64)  18496       max_pooling2d_1[0][0]            \n",
      "__________________________________________________________________________________________________\n",
      "max_pooling2d_2 (MaxPooling2D)  (None, 14, 72, 64)   0           conv2d_2[0][0]                   \n",
      "__________________________________________________________________________________________________\n",
      "conv2d_3 (Conv2D)               (None, 12, 70, 128)  73856       max_pooling2d_2[0][0]            \n",
      "__________________________________________________________________________________________________\n",
      "max_pooling2d_3 (MaxPooling2D)  (None, 6, 35, 128)   0           conv2d_3[0][0]                   \n",
      "__________________________________________________________________________________________________\n",
      "conv2d_4 (Conv2D)               (None, 4, 33, 128)   147584      max_pooling2d_3[0][0]            \n",
      "__________________________________________________________________________________________________\n",
      "max_pooling2d_4 (MaxPooling2D)  (None, 2, 16, 128)   0           conv2d_4[0][0]                   \n",
      "__________________________________________________________________________________________________\n",
      "flatten_1 (Flatten)             (None, 4096)         0           max_pooling2d_4[0][0]            \n",
      "__________________________________________________________________________________________________\n",
      "flatten_2 (Flatten)             (None, 4096)         0           max_pooling2d_4[0][0]            \n",
      "__________________________________________________________________________________________________\n",
      "flatten_3 (Flatten)             (None, 4096)         0           max_pooling2d_4[0][0]            \n",
      "__________________________________________________________________________________________________\n",
      "dropout_1 (Dropout)             (None, 4096)         0           flatten_1[0][0]                  \n",
      "__________________________________________________________________________________________________\n",
      "dropout_2 (Dropout)             (None, 4096)         0           flatten_2[0][0]                  \n",
      "__________________________________________________________________________________________________\n",
      "dropout_3 (Dropout)             (None, 4096)         0           flatten_3[0][0]                  \n",
      "__________________________________________________________________________________________________\n",
      "dense_1 (Dense)                 (None, 512)          2097664     dropout_1[0][0]                  \n",
      "__________________________________________________________________________________________________\n",
      "dense_3 (Dense)                 (None, 512)          2097664     dropout_2[0][0]                  \n",
      "__________________________________________________________________________________________________\n",
      "dense_5 (Dense)                 (None, 512)          2097664     dropout_3[0][0]                  \n",
      "__________________________________________________________________________________________________\n",
      "batch_normalization_1 (BatchNor (None, 512)          2048        dense_1[0][0]                    \n",
      "__________________________________________________________________________________________________\n",
      "batch_normalization_2 (BatchNor (None, 512)          2048        dense_3[0][0]                    \n",
      "__________________________________________________________________________________________________\n",
      "batch_normalization_3 (BatchNor (None, 512)          2048        dense_5[0][0]                    \n",
      "__________________________________________________________________________________________________\n",
      "dense_2 (Dense)                 (None, 8)            4104        batch_normalization_1[0][0]      \n",
      "__________________________________________________________________________________________________\n",
      "dense_4 (Dense)                 (None, 3)            1539        batch_normalization_2[0][0]      \n",
      "__________________________________________________________________________________________________\n",
      "dense_6 (Dense)                 (None, 3)            1539        batch_normalization_3[0][0]      \n",
      "__________________________________________________________________________________________________\n",
      "REGION (Activation)             (None, 8)            0           dense_2[0][0]                    \n",
      "__________________________________________________________________________________________________\n",
      "STATE (Activation)              (None, 3)            0           dense_4[0][0]                    \n",
      "__________________________________________________________________________________________________\n",
      "COUNT_LINE (Activation)         (None, 3)            0           dense_6[0][0]                    \n",
      "==================================================================================================\n",
      "Total params: 6,547,150\n",
      "Trainable params: 6,544,078\n",
      "Non-trainable params: 3,072\n",
      "__________________________________________________________________________________________________\n"
     ]
    },
    {
     "name": "stderr",
     "output_type": "stream",
     "text": [
      "W0521 17:56:18.797257 140176885851968 deprecation.py:323] From /usr/local/lib/python3.7/site-packages/tensorflow/python/tools/freeze_graph.py:127: checkpoint_exists (from tensorflow.python.training.checkpoint_management) is deprecated and will be removed in a future version.\n",
      "Instructions for updating:\n",
      "Use standard file APIs to check for files with this prefix.\n",
      "W0521 17:56:19.430083 140176885851968 deprecation.py:323] From /usr/local/lib/python3.7/site-packages/tensorflow/python/tools/freeze_graph.py:232: convert_variables_to_constants (from tensorflow.python.framework.graph_util_impl) is deprecated and will be removed in a future version.\n",
      "Instructions for updating:\n",
      "Use `tf.compat.v1.graph_util.convert_variables_to_constants`\n",
      "W0521 17:56:19.430560 140176885851968 deprecation.py:323] From /usr/local/lib/python3.7/site-packages/tensorflow/python/framework/graph_util_impl.py:270: extract_sub_graph (from tensorflow.python.framework.graph_util_impl) is deprecated and will be removed in a future version.\n",
      "Instructions for updating:\n",
      "Use `tf.compat.v1.graph_util.extract_sub_graph`\n"
     ]
    }
   ],
   "source": [
    "import keras\n",
    "keras.backend.clear_session()\n",
    "model = numberClassificator.load(RESULT_PATH)\n",
    "convert_keras_to_freeze_pb(numberClassificator.MODEL, FROZEN_MODEL_PATH)"
   ]
  },
  {
   "cell_type": "code",
   "execution_count": null,
   "metadata": {},
   "outputs": [],
   "source": []
  }
 ],
 "metadata": {
  "kernelspec": {
   "display_name": "Python 3",
   "language": "python",
   "name": "python3"
  },
  "language_info": {
   "codemirror_mode": {
    "name": "ipython",
    "version": 3
   },
   "file_extension": ".py",
   "mimetype": "text/x-python",
   "name": "python",
   "nbconvert_exporter": "python",
   "pygments_lexer": "ipython3",
   "version": "3.6.9"
  }
 },
 "nbformat": 4,
 "nbformat_minor": 2
}
