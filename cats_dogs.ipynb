{
 "cells": [
  {
   "cell_type": "code",
   "execution_count": 1,
   "metadata": {},
   "outputs": [
    {
     "name": "stderr",
     "output_type": "stream",
     "text": [
      "Using TensorFlow backend.\n"
     ]
    }
   ],
   "source": [
    "import os, shutil\n",
    "import numpy as np\n",
    "import matplotlib.pyplot as plt\n",
    "from keras.models import Sequential\n",
    "from keras import layers\n",
    "from keras import optimizers\n",
    "from keras.preprocessing.image import ImageDataGenerator\n",
    "from keras.preprocessing import image"
   ]
  },
  {
   "cell_type": "code",
   "execution_count": 2,
   "metadata": {},
   "outputs": [],
   "source": [
    "wd = '/home/kairat/Keras/dogs-vs-cats'\n",
    "original_dataset_dir = os.path.join(wd, 'train')\n",
    "base_dir = os.path.join(wd, 'cats_and_docs_small')\n",
    "if not os.path.exists(base_dir):\n",
    "    os.mkdir(base_dir)\n",
    "train_dir = os.path.join(base_dir, 'train')\n",
    "if not os.path.exists(train_dir):\n",
    "    os.mkdir(train_dir)\n",
    "validation_dir = os.path.join(base_dir, 'validation')\n",
    "if not os.path.exists(validation_dir):\n",
    "    os.mkdir(validation_dir)\n",
    "test_dir = os.path.join(base_dir, 'test')\n",
    "if not os.path.exists(test_dir):\n",
    "    os.mkdir(test_dir)\n",
    "train_cats_dir = os.path.join(train_dir, 'cats')\n",
    "if not os.path.exists(train_cats_dir):\n",
    "    os.mkdir(train_cats_dir)\n",
    "train_docs_dir = os.path.join(train_dir, 'docs')\n",
    "if not os.path.exists(train_docs_dir):\n",
    "    os.mkdir(train_docs_dir)\n",
    "validation_cats_dir = os.path.join(validation_dir, 'cats')\n",
    "if not os.path.exists(validation_cats_dir):\n",
    "    os.mkdir(validation_cats_dir)\n",
    "validation_docs_dir = os.path.join(validation_dir, 'docs')\n",
    "if not os.path.exists(validation_docs_dir):\n",
    "    os.mkdir(validation_docs_dir)\n",
    "test_cats_dir = os.path.join(test_dir, 'cats')\n",
    "if not os.path.exists(test_cats_dir):\n",
    "    os.mkdir(test_cats_dir)\n",
    "test_docs_dir = os.path.join(test_dir, 'docs')\n",
    "if not os.path.exists(test_docs_dir):\n",
    "    os.mkdir(test_docs_dir)\n",
    "for i in range(10000, 11000):\n",
    "    fname = 'cat.{}.jpg'.format(i)\n",
    "    src = os.path.join(original_dataset_dir, fname)\n",
    "    dst = os.path.join(train_cats_dir, fname)\n",
    "    shutil.copyfile(src, dst)\n",
    "    fname = 'dog.{}.jpg'.format(i)\n",
    "    src = os.path.join(original_dataset_dir, fname)\n",
    "    dst = os.path.join(train_docs_dir, fname)\n",
    "    shutil.copyfile(src, dst)\n",
    "for i in range(11000, 11500):\n",
    "    fname = 'cat.{}.jpg'.format(i)\n",
    "    src = os.path.join(original_dataset_dir, fname)\n",
    "    dst = os.path.join(validation_cats_dir, fname)\n",
    "    shutil.copyfile(src, dst)\n",
    "    fname = 'dog.{}.jpg'.format(i)\n",
    "    src = os.path.join(original_dataset_dir, fname)\n",
    "    dst = os.path.join(validation_docs_dir, fname)\n",
    "    shutil.copyfile(src, dst)\n",
    "for i in range(11500, 12000):\n",
    "    fname = 'cat.{}.jpg'.format(i)\n",
    "    src = os.path.join(original_dataset_dir, fname)\n",
    "    dst = os.path.join(test_cats_dir, fname)\n",
    "    shutil.copyfile(src, dst)\n",
    "    fname = 'dog.{}.jpg'.format(i)\n",
    "    src = os.path.join(original_dataset_dir, fname)\n",
    "    dst = os.path.join(test_docs_dir, fname)\n",
    "    shutil.copyfile(src, dst)"
   ]
  },
  {
   "cell_type": "markdown",
   "metadata": {},
   "source": [
    "### Training CNN from scratch (baseline)"
   ]
  },
  {
   "cell_type": "code",
   "execution_count": 3,
   "metadata": {},
   "outputs": [
    {
     "name": "stdout",
     "output_type": "stream",
     "text": [
      "Model: \"sequential_1\"\n",
      "_________________________________________________________________\n",
      "Layer (type)                 Output Shape              Param #   \n",
      "=================================================================\n",
      "conv2d_1 (Conv2D)            (None, 148, 148, 32)      896       \n",
      "_________________________________________________________________\n",
      "max_pooling2d_1 (MaxPooling2 (None, 74, 74, 32)        0         \n",
      "_________________________________________________________________\n",
      "conv2d_2 (Conv2D)            (None, 72, 72, 64)        18496     \n",
      "_________________________________________________________________\n",
      "max_pooling2d_2 (MaxPooling2 (None, 36, 36, 64)        0         \n",
      "_________________________________________________________________\n",
      "conv2d_3 (Conv2D)            (None, 34, 34, 128)       73856     \n",
      "_________________________________________________________________\n",
      "max_pooling2d_3 (MaxPooling2 (None, 17, 17, 128)       0         \n",
      "_________________________________________________________________\n",
      "conv2d_4 (Conv2D)            (None, 15, 15, 128)       147584    \n",
      "_________________________________________________________________\n",
      "max_pooling2d_4 (MaxPooling2 (None, 7, 7, 128)         0         \n",
      "_________________________________________________________________\n",
      "flatten_1 (Flatten)          (None, 6272)              0         \n",
      "_________________________________________________________________\n",
      "dense_1 (Dense)              (None, 512)               3211776   \n",
      "_________________________________________________________________\n",
      "dense_2 (Dense)              (None, 1)                 513       \n",
      "=================================================================\n",
      "Total params: 3,453,121\n",
      "Trainable params: 3,453,121\n",
      "Non-trainable params: 0\n",
      "_________________________________________________________________\n"
     ]
    }
   ],
   "source": [
    "model = Sequential()\n",
    "model.add(layers.Conv2D(32, (3, 3), activation='relu',\n",
    "                       input_shape=(150, 150, 3)))\n",
    "model.add(layers.MaxPooling2D((2, 2)))\n",
    "model.add(layers.Conv2D(64, (3, 3), activation='relu'))\n",
    "model.add(layers.MaxPooling2D((2, 2)))\n",
    "model.add(layers.Conv2D(128, (3, 3), activation='relu'))\n",
    "model.add(layers.MaxPooling2D((2, 2)))\n",
    "model.add(layers.Conv2D(128, (3, 3), activation='relu'))\n",
    "model.add(layers.MaxPooling2D((2, 2)))\n",
    "model.add(layers.Flatten())\n",
    "model.add(layers.Dense(512, activation='relu'))\n",
    "model.add(layers.Dense(1, activation='sigmoid'))\n",
    "model.compile(loss='binary_crossentropy',\n",
    "              optimizer=optimizers.RMSprop(lr=1e-4),\n",
    "              metrics=['acc'])\n",
    "model.summary()"
   ]
  },
  {
   "cell_type": "code",
   "execution_count": 4,
   "metadata": {},
   "outputs": [
    {
     "name": "stdout",
     "output_type": "stream",
     "text": [
      "Found 2000 images belonging to 2 classes.\n",
      "Found 1000 images belonging to 2 classes.\n",
      "Found 1000 images belonging to 2 classes.\n"
     ]
    }
   ],
   "source": [
    "train_datagen = ImageDataGenerator(rescale=1./255)\n",
    "test_datagen = ImageDataGenerator(rescale=1./255)\n",
    "train_generator = train_datagen.flow_from_directory(\n",
    "    train_dir, target_size=(150, 150),\n",
    "    batch_size=32, class_mode='binary')\n",
    "validation_generator = test_datagen.flow_from_directory(\n",
    "    validation_dir, target_size=(150, 150),\n",
    "    batch_size=32, class_mode='binary')\n",
    "test_generator = test_datagen.flow_from_directory(\n",
    "    test_dir, target_size=(150, 150),\n",
    "    batch_size=32, class_mode='binary')"
   ]
  },
  {
   "cell_type": "code",
   "execution_count": 5,
   "metadata": {
    "scrolled": true
   },
   "outputs": [
    {
     "name": "stdout",
     "output_type": "stream",
     "text": [
      "Epoch 1/30\n",
      "100/100 [==============================] - 15s 151ms/step - loss: 0.6760 - acc: 0.5606 - val_loss: 0.6105 - val_acc: 0.5806\n",
      "Epoch 2/30\n",
      "100/100 [==============================] - 13s 125ms/step - loss: 0.6346 - acc: 0.6366 - val_loss: 0.6814 - val_acc: 0.5934\n",
      "Epoch 3/30\n",
      "100/100 [==============================] - 13s 130ms/step - loss: 0.5943 - acc: 0.6843 - val_loss: 0.6186 - val_acc: 0.6631\n",
      "Epoch 4/30\n",
      "100/100 [==============================] - 14s 139ms/step - loss: 0.5600 - acc: 0.7063 - val_loss: 0.5814 - val_acc: 0.6508\n",
      "Epoch 5/30\n",
      "100/100 [==============================] - 13s 131ms/step - loss: 0.5092 - acc: 0.7478 - val_loss: 0.6294 - val_acc: 0.6954\n",
      "Epoch 6/30\n",
      "100/100 [==============================] - 14s 144ms/step - loss: 0.4864 - acc: 0.7666 - val_loss: 0.5750 - val_acc: 0.7139\n",
      "Epoch 7/30\n",
      "100/100 [==============================] - 13s 129ms/step - loss: 0.4497 - acc: 0.7860 - val_loss: 0.7078 - val_acc: 0.6739\n",
      "Epoch 8/30\n",
      "100/100 [==============================] - 14s 137ms/step - loss: 0.4247 - acc: 0.8090 - val_loss: 0.6522 - val_acc: 0.6927\n",
      "Epoch 9/30\n",
      "100/100 [==============================] - 13s 132ms/step - loss: 0.3968 - acc: 0.8182 - val_loss: 0.7635 - val_acc: 0.7159\n",
      "Epoch 10/30\n",
      "100/100 [==============================] - 13s 129ms/step - loss: 0.3666 - acc: 0.8450 - val_loss: 0.7485 - val_acc: 0.7291\n",
      "Epoch 11/30\n",
      "100/100 [==============================] - 14s 139ms/step - loss: 0.3412 - acc: 0.8545 - val_loss: 0.8050 - val_acc: 0.7139\n",
      "Epoch 12/30\n",
      "100/100 [==============================] - 13s 130ms/step - loss: 0.3134 - acc: 0.8684 - val_loss: 0.3774 - val_acc: 0.7132\n",
      "Epoch 13/30\n",
      "100/100 [==============================] - 13s 134ms/step - loss: 0.2826 - acc: 0.8857 - val_loss: 0.3791 - val_acc: 0.7300\n",
      "Epoch 14/30\n",
      "100/100 [==============================] - 13s 131ms/step - loss: 0.2602 - acc: 0.8999 - val_loss: 0.4231 - val_acc: 0.7157\n",
      "Epoch 15/30\n",
      "100/100 [==============================] - 14s 137ms/step - loss: 0.2413 - acc: 0.9014 - val_loss: 0.7835 - val_acc: 0.7455\n",
      "Epoch 16/30\n",
      "100/100 [==============================] - 13s 134ms/step - loss: 0.2090 - acc: 0.9239 - val_loss: 0.1241 - val_acc: 0.7107\n",
      "Epoch 17/30\n",
      "100/100 [==============================] - 13s 130ms/step - loss: 0.1839 - acc: 0.9378 - val_loss: 0.7013 - val_acc: 0.7240\n",
      "Epoch 18/30\n",
      "100/100 [==============================] - 14s 138ms/step - loss: 0.1609 - acc: 0.9435 - val_loss: 0.6646 - val_acc: 0.7468\n",
      "Epoch 19/30\n",
      "100/100 [==============================] - 13s 130ms/step - loss: 0.1419 - acc: 0.9530 - val_loss: 0.7696 - val_acc: 0.7132\n",
      "Epoch 20/30\n",
      "100/100 [==============================] - 13s 134ms/step - loss: 0.1229 - acc: 0.9612 - val_loss: 0.7705 - val_acc: 0.7274\n",
      "Epoch 21/30\n",
      "100/100 [==============================] - 13s 134ms/step - loss: 0.0969 - acc: 0.9697 - val_loss: 0.8366 - val_acc: 0.7386\n",
      "Epoch 22/30\n",
      "100/100 [==============================] - 13s 134ms/step - loss: 0.0888 - acc: 0.9744 - val_loss: 1.0116 - val_acc: 0.7191\n",
      "Epoch 23/30\n",
      "100/100 [==============================] - 13s 135ms/step - loss: 0.0671 - acc: 0.9832 - val_loss: 1.1956 - val_acc: 0.7253\n",
      "Epoch 24/30\n",
      "100/100 [==============================] - 14s 140ms/step - loss: 0.0628 - acc: 0.9830 - val_loss: 0.6480 - val_acc: 0.7345\n",
      "Epoch 25/30\n",
      "100/100 [==============================] - 13s 130ms/step - loss: 0.0521 - acc: 0.9871 - val_loss: 0.6264 - val_acc: 0.7461\n",
      "Epoch 26/30\n",
      "100/100 [==============================] - 13s 131ms/step - loss: 0.0465 - acc: 0.9890 - val_loss: 0.9279 - val_acc: 0.7500\n",
      "Epoch 27/30\n",
      "100/100 [==============================] - 13s 133ms/step - loss: 0.0315 - acc: 0.9946 - val_loss: 1.2892 - val_acc: 0.7216\n",
      "Epoch 28/30\n",
      "100/100 [==============================] - 14s 136ms/step - loss: 0.0247 - acc: 0.9953 - val_loss: 1.3035 - val_acc: 0.7354\n",
      "Epoch 29/30\n",
      "100/100 [==============================] - 13s 134ms/step - loss: 0.0317 - acc: 0.9912 - val_loss: 0.6270 - val_acc: 0.7564\n",
      "Epoch 30/30\n",
      "100/100 [==============================] - 13s 129ms/step - loss: 0.0231 - acc: 0.9931 - val_loss: 1.0296 - val_acc: 0.7145\n"
     ]
    }
   ],
   "source": [
    "history1 = model.fit_generator(\n",
    "    train_generator, steps_per_epoch=100,\n",
    "    epochs=30, validation_data=validation_generator,\n",
    "    validation_steps=50)\n",
    "model.save(os.path.join(wd,'cats_and_docs_small_1.h5'))"
   ]
  },
  {
   "cell_type": "code",
   "execution_count": 6,
   "metadata": {},
   "outputs": [
    {
     "data": {
      "image/png": "[encoded data removed]",
      "text/plain": [
       "<Figure size 432x288 with 1 Axes>"
      ]
     },
     "metadata": {
      "needs_background": "light"
     },
     "output_type": "display_data"
    },
    {
     "data": {
      "image/png": "[encoded data removed]",
      "text/plain": [
       "<Figure size 432x288 with 1 Axes>"
      ]
     },
     "metadata": {
      "needs_background": "light"
     },
     "output_type": "display_data"
    }
   ],
   "source": [
    "acc = history1.history['acc']\n",
    "val_acc = history1.history['val_acc']\n",
    "loss = history1.history['loss']\n",
    "val_loss = history1.history['val_loss']\n",
    "epochs = range(1, len(acc) + 1)\n",
    "plt.plot(epochs, acc, 'bo', label='Training acc')\n",
    "plt.plot(epochs, val_acc, 'b', label='Validation acc')\n",
    "plt.title('Training and validation accuracy')\n",
    "plt.xlabel('Epochs')\n",
    "plt.ylabel('Accuracy')\n",
    "plt.legend()\n",
    "plt.show()\n",
    "plt.clf()\n",
    "plt.plot(epochs, loss, 'bo', label='Training loss')\n",
    "plt.plot(epochs, val_loss, 'b', label='Validation loss')\n",
    "plt.title('Training and validation loss')\n",
    "plt.xlabel('Epochs')\n",
    "plt.ylabel('Loss')\n",
    "plt.legend()\n",
    "plt.show()"
   ]
  },
  {
   "cell_type": "code",
   "execution_count": 7,
   "metadata": {},
   "outputs": [
    {
     "name": "stdout",
     "output_type": "stream",
     "text": [
      "test acc 0.7347715497016907\n"
     ]
    }
   ],
   "source": [
    "test_loss, test_acc = model.evaluate_generator(test_generator, steps=50)\n",
    "print('test acc', test_acc)"
   ]
  },
  {
   "cell_type": "markdown",
   "metadata": {},
   "source": [
    "### Training CNN from scratch with data augmentation"
   ]
  },
  {
   "cell_type": "code",
   "execution_count": 8,
   "metadata": {},
   "outputs": [
    {
     "name": "stdout",
     "output_type": "stream",
     "text": [
      "Model: \"sequential_2\"\n",
      "_________________________________________________________________\n",
      "Layer (type)                 Output Shape              Param #   \n",
      "=================================================================\n",
      "conv2d_5 (Conv2D)            (None, 148, 148, 32)      896       \n",
      "_________________________________________________________________\n",
      "max_pooling2d_5 (MaxPooling2 (None, 74, 74, 32)        0         \n",
      "_________________________________________________________________\n",
      "conv2d_6 (Conv2D)            (None, 72, 72, 64)        18496     \n",
      "_________________________________________________________________\n",
      "max_pooling2d_6 (MaxPooling2 (None, 36, 36, 64)        0         \n",
      "_________________________________________________________________\n",
      "conv2d_7 (Conv2D)            (None, 34, 34, 128)       73856     \n",
      "_________________________________________________________________\n",
      "max_pooling2d_7 (MaxPooling2 (None, 17, 17, 128)       0         \n",
      "_________________________________________________________________\n",
      "conv2d_8 (Conv2D)            (None, 15, 15, 128)       147584    \n",
      "_________________________________________________________________\n",
      "max_pooling2d_8 (MaxPooling2 (None, 7, 7, 128)         0         \n",
      "_________________________________________________________________\n",
      "flatten_2 (Flatten)          (None, 6272)              0         \n",
      "_________________________________________________________________\n",
      "dropout_1 (Dropout)          (None, 6272)              0         \n",
      "_________________________________________________________________\n",
      "dense_3 (Dense)              (None, 512)               3211776   \n",
      "_________________________________________________________________\n",
      "dense_4 (Dense)              (None, 1)                 513       \n",
      "=================================================================\n",
      "Total params: 3,453,121\n",
      "Trainable params: 3,453,121\n",
      "Non-trainable params: 0\n",
      "_________________________________________________________________\n"
     ]
    }
   ],
   "source": [
    "model = Sequential()\n",
    "model.add(layers.Conv2D(32, (3, 3), activation='relu',\n",
    "                       input_shape=(150, 150, 3)))\n",
    "model.add(layers.MaxPooling2D((2, 2)))\n",
    "model.add(layers.Conv2D(64, (3, 3), activation='relu'))\n",
    "model.add(layers.MaxPooling2D((2, 2)))\n",
    "model.add(layers.Conv2D(128, (3, 3), activation='relu'))\n",
    "model.add(layers.MaxPooling2D((2, 2)))\n",
    "model.add(layers.Conv2D(128, (3, 3), activation='relu'))\n",
    "model.add(layers.MaxPooling2D((2, 2)))\n",
    "model.add(layers.Flatten())\n",
    "model.add(layers.Dropout(0.5))\n",
    "model.add(layers.Dense(512, activation='relu'))\n",
    "model.add(layers.Dense(1, activation='sigmoid'))\n",
    "model.compile(loss='binary_crossentropy',\n",
    "              optimizer=optimizers.RMSprop(lr=1e-4),\n",
    "              metrics=['acc'])\n",
    "model.summary()"
   ]
  },
  {
   "cell_type": "code",
   "execution_count": 9,
   "metadata": {},
   "outputs": [
    {
     "name": "stdout",
     "output_type": "stream",
     "text": [
      "Found 2000 images belonging to 2 classes.\n",
      "Found 1000 images belonging to 2 classes.\n",
      "Found 1000 images belonging to 2 classes.\n"
     ]
    }
   ],
   "source": [
    "train_datagen = ImageDataGenerator(\n",
    "    rescale=1./255,\n",
    "    rotation_range=40,\n",
    "    width_shift_range=0.2,\n",
    "    height_shift_range=0.2,\n",
    "    shear_range=0.2,\n",
    "    zoom_range=0.2,\n",
    "    horizontal_flip=True,\n",
    "    fill_mode='nearest')\n",
    "test_datagen = ImageDataGenerator(rescale=1./255)\n",
    "train_generator = train_datagen.flow_from_directory(\n",
    "    train_dir, target_size=(150, 150),\n",
    "    batch_size=32, class_mode='binary')\n",
    "validation_generator = test_datagen.flow_from_directory(\n",
    "    validation_dir, target_size=(150, 150),\n",
    "    batch_size=32, class_mode='binary')\n",
    "test_generator = test_datagen.flow_from_directory(\n",
    "    test_dir, target_size=(150, 150),\n",
    "    batch_size=32, class_mode='binary')"
   ]
  },
  {
   "cell_type": "code",
   "execution_count": 10,
   "metadata": {
    "scrolled": true
   },
   "outputs": [
    {
     "name": "stdout",
     "output_type": "stream",
     "text": [
      "Epoch 1/100\n",
      "100/100 [==============================] - 32s 319ms/step - loss: 0.6874 - acc: 0.5300 - val_loss: 0.6686 - val_acc: 0.5615\n",
      "Epoch 2/100\n",
      "100/100 [==============================] - 29s 290ms/step - loss: 0.6773 - acc: 0.5716 - val_loss: 0.6490 - val_acc: 0.6282\n",
      "Epoch 3/100\n",
      "100/100 [==============================] - 29s 288ms/step - loss: 0.6578 - acc: 0.6143 - val_loss: 0.6309 - val_acc: 0.6396\n",
      "Epoch 4/100\n",
      "100/100 [==============================] - 29s 293ms/step - loss: 0.6410 - acc: 0.6225 - val_loss: 0.5576 - val_acc: 0.6256\n",
      "Epoch 5/100\n",
      "100/100 [==============================] - 29s 286ms/step - loss: 0.6190 - acc: 0.6569 - val_loss: 0.6107 - val_acc: 0.6662\n",
      "Epoch 6/100\n",
      "100/100 [==============================] - 32s 320ms/step - loss: 0.6117 - acc: 0.6721 - val_loss: 0.5080 - val_acc: 0.6759\n",
      "Epoch 7/100\n",
      "100/100 [==============================] - 29s 289ms/step - loss: 0.5926 - acc: 0.6878 - val_loss: 0.6596 - val_acc: 0.7094\n",
      "Epoch 8/100\n",
      "100/100 [==============================] - 30s 298ms/step - loss: 0.5899 - acc: 0.6903 - val_loss: 0.5393 - val_acc: 0.7004\n",
      "Epoch 9/100\n",
      "100/100 [==============================] - 29s 288ms/step - loss: 0.5985 - acc: 0.6862 - val_loss: 0.6032 - val_acc: 0.7294\n",
      "Epoch 10/100\n",
      "100/100 [==============================] - 29s 287ms/step - loss: 0.5703 - acc: 0.7030 - val_loss: 0.4633 - val_acc: 0.7259\n",
      "Epoch 11/100\n",
      "100/100 [==============================] - 30s 297ms/step - loss: 0.5602 - acc: 0.7089 - val_loss: 0.4369 - val_acc: 0.7249\n",
      "Epoch 12/100\n",
      "100/100 [==============================] - 29s 292ms/step - loss: 0.5668 - acc: 0.6976 - val_loss: 0.5940 - val_acc: 0.7246\n",
      "Epoch 13/100\n",
      "100/100 [==============================] - 29s 294ms/step - loss: 0.5555 - acc: 0.7153 - val_loss: 0.6894 - val_acc: 0.6688\n",
      "Epoch 14/100\n",
      "100/100 [==============================] - 29s 291ms/step - loss: 0.5563 - acc: 0.7126 - val_loss: 0.3997 - val_acc: 0.7481\n",
      "Epoch 15/100\n",
      "100/100 [==============================] - 30s 295ms/step - loss: 0.5418 - acc: 0.7146 - val_loss: 0.5838 - val_acc: 0.7680\n",
      "Epoch 16/100\n",
      "100/100 [==============================] - 29s 294ms/step - loss: 0.5394 - acc: 0.7246 - val_loss: 0.3584 - val_acc: 0.7648\n",
      "Epoch 17/100\n",
      "100/100 [==============================] - 29s 288ms/step - loss: 0.5356 - acc: 0.7298 - val_loss: 0.4448 - val_acc: 0.7430\n",
      "Epoch 18/100\n",
      "100/100 [==============================] - 32s 316ms/step - loss: 0.5413 - acc: 0.7164 - val_loss: 0.4409 - val_acc: 0.7558\n",
      "Epoch 19/100\n",
      "100/100 [==============================] - 29s 287ms/step - loss: 0.5266 - acc: 0.7348 - val_loss: 0.4657 - val_acc: 0.7519\n",
      "Epoch 20/100\n",
      "100/100 [==============================] - 29s 291ms/step - loss: 0.5250 - acc: 0.7437 - val_loss: 0.5078 - val_acc: 0.7642\n",
      "Epoch 21/100\n",
      "100/100 [==============================] - 27s 274ms/step - loss: 0.5332 - acc: 0.7214 - val_loss: 0.5031 - val_acc: 0.7671\n",
      "Epoch 22/100\n",
      "100/100 [==============================] - 29s 293ms/step - loss: 0.5195 - acc: 0.7355 - val_loss: 0.5031 - val_acc: 0.7519\n",
      "Epoch 23/100\n",
      "100/100 [==============================] - 31s 312ms/step - loss: 0.5256 - acc: 0.7315 - val_loss: 0.4729 - val_acc: 0.7830\n",
      "Epoch 24/100\n",
      "100/100 [==============================] - 30s 298ms/step - loss: 0.5176 - acc: 0.7519 - val_loss: 0.5049 - val_acc: 0.7738\n",
      "Epoch 25/100\n",
      "100/100 [==============================] - 29s 287ms/step - loss: 0.5007 - acc: 0.7538 - val_loss: 0.4634 - val_acc: 0.7796\n",
      "Epoch 26/100\n",
      "100/100 [==============================] - 29s 286ms/step - loss: 0.5008 - acc: 0.7560 - val_loss: 0.4219 - val_acc: 0.7418\n",
      "Epoch 27/100\n",
      "100/100 [==============================] - 29s 292ms/step - loss: 0.4959 - acc: 0.7531 - val_loss: 0.3907 - val_acc: 0.8035\n",
      "Epoch 28/100\n",
      "100/100 [==============================] - 30s 297ms/step - loss: 0.5123 - acc: 0.7456 - val_loss: 0.4292 - val_acc: 0.7925\n",
      "Epoch 29/100\n",
      "100/100 [==============================] - 29s 293ms/step - loss: 0.4918 - acc: 0.7639 - val_loss: 0.4891 - val_acc: 0.7887\n",
      "Epoch 30/100\n",
      "100/100 [==============================] - 29s 288ms/step - loss: 0.4911 - acc: 0.7655 - val_loss: 0.5090 - val_acc: 0.7614\n",
      "Epoch 31/100\n",
      "100/100 [==============================] - 30s 296ms/step - loss: 0.4869 - acc: 0.7657 - val_loss: 0.5469 - val_acc: 0.7861\n",
      "Epoch 32/100\n",
      "100/100 [==============================] - 29s 287ms/step - loss: 0.4841 - acc: 0.7626 - val_loss: 0.4748 - val_acc: 0.7816\n",
      "Epoch 33/100\n",
      "100/100 [==============================] - 29s 293ms/step - loss: 0.4819 - acc: 0.7629 - val_loss: 0.4560 - val_acc: 0.7906\n",
      "Epoch 34/100\n",
      "100/100 [==============================] - 29s 287ms/step - loss: 0.4958 - acc: 0.7560 - val_loss: 0.4256 - val_acc: 0.7829\n",
      "Epoch 35/100\n",
      "100/100 [==============================] - 31s 314ms/step - loss: 0.4773 - acc: 0.7673 - val_loss: 0.3812 - val_acc: 0.7836\n",
      "Epoch 36/100\n",
      "100/100 [==============================] - 29s 293ms/step - loss: 0.4761 - acc: 0.7730 - val_loss: 0.3539 - val_acc: 0.8022\n",
      "Epoch 37/100\n",
      "100/100 [==============================] - 29s 289ms/step - loss: 0.4904 - acc: 0.7641 - val_loss: 0.4165 - val_acc: 0.7874\n",
      "Epoch 38/100\n",
      "100/100 [==============================] - 29s 293ms/step - loss: 0.4679 - acc: 0.7775 - val_loss: 0.4753 - val_acc: 0.7829\n",
      "Epoch 39/100\n",
      "100/100 [==============================] - 29s 286ms/step - loss: 0.4766 - acc: 0.7724 - val_loss: 0.3860 - val_acc: 0.7919\n",
      "Epoch 40/100\n",
      "100/100 [==============================] - 31s 315ms/step - loss: 0.4696 - acc: 0.7698 - val_loss: 0.5419 - val_acc: 0.7648\n",
      "Epoch 41/100\n",
      "100/100 [==============================] - 29s 290ms/step - loss: 0.4676 - acc: 0.7753 - val_loss: 0.3418 - val_acc: 0.8028\n",
      "Epoch 42/100\n",
      "100/100 [==============================] - 29s 289ms/step - loss: 0.4655 - acc: 0.7783 - val_loss: 0.4900 - val_acc: 0.7951\n",
      "Epoch 43/100\n",
      "100/100 [==============================] - 29s 289ms/step - loss: 0.4536 - acc: 0.7827 - val_loss: 0.4843 - val_acc: 0.7996\n",
      "Epoch 44/100\n",
      "100/100 [==============================] - 29s 292ms/step - loss: 0.4730 - acc: 0.7713 - val_loss: 0.5682 - val_acc: 0.7900\n",
      "Epoch 45/100\n",
      "100/100 [==============================] - 30s 302ms/step - loss: 0.4509 - acc: 0.7895 - val_loss: 0.4718 - val_acc: 0.8112\n",
      "Epoch 46/100\n",
      "100/100 [==============================] - 29s 287ms/step - loss: 0.4524 - acc: 0.7809 - val_loss: 0.4317 - val_acc: 0.8008\n",
      "Epoch 47/100\n",
      "100/100 [==============================] - 29s 292ms/step - loss: 0.4379 - acc: 0.7951 - val_loss: 0.7483 - val_acc: 0.8099\n",
      "Epoch 48/100\n",
      "100/100 [==============================] - 29s 289ms/step - loss: 0.4639 - acc: 0.7811 - val_loss: 0.3360 - val_acc: 0.8003\n",
      "Epoch 49/100\n",
      "100/100 [==============================] - 29s 290ms/step - loss: 0.4455 - acc: 0.7917 - val_loss: 0.4074 - val_acc: 0.7849\n",
      "Epoch 50/100\n",
      "100/100 [==============================] - 29s 290ms/step - loss: 0.4502 - acc: 0.7889 - val_loss: 0.7383 - val_acc: 0.8112\n",
      "Epoch 51/100\n",
      "100/100 [==============================] - 29s 286ms/step - loss: 0.4436 - acc: 0.7951 - val_loss: 0.5420 - val_acc: 0.8071\n",
      "Epoch 52/100\n",
      "100/100 [==============================] - 32s 316ms/step - loss: 0.4464 - acc: 0.7831 - val_loss: 0.3881 - val_acc: 0.8035\n",
      "Epoch 53/100\n",
      "100/100 [==============================] - 29s 287ms/step - loss: 0.4357 - acc: 0.7952 - val_loss: 0.4792 - val_acc: 0.8268\n",
      "Epoch 54/100\n",
      "100/100 [==============================] - 29s 292ms/step - loss: 0.4388 - acc: 0.7910 - val_loss: 0.3998 - val_acc: 0.8196\n",
      "Epoch 55/100\n",
      "100/100 [==============================] - 29s 289ms/step - loss: 0.4357 - acc: 0.7955 - val_loss: 0.3578 - val_acc: 0.8173\n",
      "Epoch 56/100\n",
      "100/100 [==============================] - 30s 298ms/step - loss: 0.4244 - acc: 0.8030 - val_loss: 0.3635 - val_acc: 0.8177\n",
      "Epoch 57/100\n",
      "100/100 [==============================] - 31s 306ms/step - loss: 0.4316 - acc: 0.7965 - val_loss: 0.3000 - val_acc: 0.8254\n",
      "Epoch 58/100\n",
      "100/100 [==============================] - 29s 288ms/step - loss: 0.4361 - acc: 0.7992 - val_loss: 0.4367 - val_acc: 0.8198\n",
      "Epoch 59/100\n",
      "100/100 [==============================] - 29s 295ms/step - loss: 0.4312 - acc: 0.7990 - val_loss: 0.5157 - val_acc: 0.8196\n",
      "Epoch 60/100\n",
      "100/100 [==============================] - 29s 288ms/step - loss: 0.4182 - acc: 0.8058 - val_loss: 0.3729 - val_acc: 0.8204\n",
      "Epoch 61/100\n",
      "100/100 [==============================] - 30s 295ms/step - loss: 0.4062 - acc: 0.8100 - val_loss: 0.4938 - val_acc: 0.8260\n",
      "Epoch 62/100\n",
      "100/100 [==============================] - 29s 294ms/step - loss: 0.4281 - acc: 0.7989 - val_loss: 0.4023 - val_acc: 0.7976\n",
      "Epoch 63/100\n",
      "100/100 [==============================] - 29s 290ms/step - loss: 0.4174 - acc: 0.8100 - val_loss: 0.3563 - val_acc: 0.8260\n",
      "Epoch 64/100\n",
      "100/100 [==============================] - 29s 288ms/step - loss: 0.4232 - acc: 0.8106 - val_loss: 0.3335 - val_acc: 0.8164\n",
      "Epoch 65/100\n",
      "100/100 [==============================] - 29s 289ms/step - loss: 0.4259 - acc: 0.7987 - val_loss: 0.7416 - val_acc: 0.7931\n",
      "Epoch 66/100\n",
      "100/100 [==============================] - 29s 289ms/step - loss: 0.4139 - acc: 0.8141 - val_loss: 0.2359 - val_acc: 0.8247\n",
      "Epoch 67/100\n",
      "100/100 [==============================] - 29s 288ms/step - loss: 0.3950 - acc: 0.8112 - val_loss: 0.2222 - val_acc: 0.8306\n",
      "Epoch 68/100\n",
      "100/100 [==============================] - 29s 291ms/step - loss: 0.4191 - acc: 0.8087 - val_loss: 0.4897 - val_acc: 0.7899\n",
      "Epoch 69/100\n",
      "100/100 [==============================] - 31s 310ms/step - loss: 0.4020 - acc: 0.8175 - val_loss: 0.5053 - val_acc: 0.8407\n",
      "Epoch 70/100\n",
      "100/100 [==============================] - 29s 295ms/step - loss: 0.4148 - acc: 0.8125 - val_loss: 0.6500 - val_acc: 0.8061\n",
      "Epoch 71/100\n",
      "100/100 [==============================] - 29s 286ms/step - loss: 0.4100 - acc: 0.8150 - val_loss: 0.3884 - val_acc: 0.8160\n",
      "Epoch 72/100\n",
      "100/100 [==============================] - 30s 300ms/step - loss: 0.4027 - acc: 0.8134 - val_loss: 0.5321 - val_acc: 0.8009\n",
      "Epoch 73/100\n",
      "100/100 [==============================] - 29s 286ms/step - loss: 0.3804 - acc: 0.8235 - val_loss: 0.3923 - val_acc: 0.8093\n",
      "Epoch 74/100\n",
      "100/100 [==============================] - 31s 306ms/step - loss: 0.4104 - acc: 0.8097 - val_loss: 0.5298 - val_acc: 0.8020\n",
      "Epoch 75/100\n",
      "100/100 [==============================] - 29s 287ms/step - loss: 0.4005 - acc: 0.8116 - val_loss: 0.2571 - val_acc: 0.8363\n",
      "Epoch 76/100\n",
      "100/100 [==============================] - 29s 287ms/step - loss: 0.3922 - acc: 0.8267 - val_loss: 0.4228 - val_acc: 0.8319\n",
      "Epoch 77/100\n",
      "100/100 [==============================] - 29s 293ms/step - loss: 0.3871 - acc: 0.8207 - val_loss: 1.2492 - val_acc: 0.7945\n",
      "Epoch 78/100\n",
      "100/100 [==============================] - 29s 286ms/step - loss: 0.3961 - acc: 0.8141 - val_loss: 0.5685 - val_acc: 0.7367\n",
      "Epoch 79/100\n",
      "100/100 [==============================] - 30s 300ms/step - loss: 0.3950 - acc: 0.8172 - val_loss: 0.5286 - val_acc: 0.8357\n",
      "Epoch 80/100\n",
      "100/100 [==============================] - 28s 285ms/step - loss: 0.3882 - acc: 0.8273 - val_loss: 0.7254 - val_acc: 0.8325\n",
      "Epoch 81/100\n",
      "100/100 [==============================] - 32s 316ms/step - loss: 0.3940 - acc: 0.8191 - val_loss: 0.3694 - val_acc: 0.8255\n",
      "Epoch 82/100\n",
      "100/100 [==============================] - 29s 288ms/step - loss: 0.3732 - acc: 0.8318 - val_loss: 0.4905 - val_acc: 0.8441\n",
      "Epoch 83/100\n",
      "100/100 [==============================] - 29s 290ms/step - loss: 0.3853 - acc: 0.8225 - val_loss: 0.3561 - val_acc: 0.8280\n",
      "Epoch 84/100\n",
      "100/100 [==============================] - 29s 290ms/step - loss: 0.3682 - acc: 0.8359 - val_loss: 0.3374 - val_acc: 0.8247\n",
      "Epoch 85/100\n",
      "100/100 [==============================] - 29s 286ms/step - loss: 0.3814 - acc: 0.8295 - val_loss: 0.2866 - val_acc: 0.8052\n",
      "Epoch 86/100\n",
      "100/100 [==============================] - 31s 313ms/step - loss: 0.3697 - acc: 0.8395 - val_loss: 0.4868 - val_acc: 0.8022\n",
      "Epoch 87/100\n",
      "100/100 [==============================] - 29s 287ms/step - loss: 0.3687 - acc: 0.8352 - val_loss: 0.2031 - val_acc: 0.8382\n",
      "Epoch 88/100\n",
      "100/100 [==============================] - 30s 298ms/step - loss: 0.3701 - acc: 0.8386 - val_loss: 0.3237 - val_acc: 0.7745\n",
      "Epoch 89/100\n",
      "100/100 [==============================] - 29s 287ms/step - loss: 0.3538 - acc: 0.8450 - val_loss: 0.4021 - val_acc: 0.8415\n",
      "Epoch 90/100\n",
      "100/100 [==============================] - 29s 289ms/step - loss: 0.3613 - acc: 0.8396 - val_loss: 0.3909 - val_acc: 0.8173\n",
      "Epoch 91/100\n",
      "100/100 [==============================] - 30s 302ms/step - loss: 0.3589 - acc: 0.8439 - val_loss: 0.3164 - val_acc: 0.8466\n",
      "Epoch 92/100\n",
      "100/100 [==============================] - 29s 289ms/step - loss: 0.3592 - acc: 0.8368 - val_loss: 0.3974 - val_acc: 0.8204\n",
      "Epoch 93/100\n",
      "100/100 [==============================] - 29s 292ms/step - loss: 0.3637 - acc: 0.8362 - val_loss: 0.5081 - val_acc: 0.7861\n",
      "Epoch 94/100\n",
      "100/100 [==============================] - 29s 293ms/step - loss: 0.3598 - acc: 0.8445 - val_loss: 0.4430 - val_acc: 0.8420\n",
      "Epoch 95/100\n",
      "100/100 [==============================] - 30s 296ms/step - loss: 0.3490 - acc: 0.8392 - val_loss: 0.3050 - val_acc: 0.8460\n",
      "Epoch 96/100\n",
      "100/100 [==============================] - 29s 292ms/step - loss: 0.3519 - acc: 0.8466 - val_loss: 1.1214 - val_acc: 0.8312\n",
      "Epoch 97/100\n",
      "100/100 [==============================] - 29s 287ms/step - loss: 0.3544 - acc: 0.8387 - val_loss: 0.3458 - val_acc: 0.8255\n",
      "Epoch 98/100\n",
      "100/100 [==============================] - 32s 317ms/step - loss: 0.3504 - acc: 0.8412 - val_loss: 0.4025 - val_acc: 0.8557\n",
      "Epoch 99/100\n",
      "100/100 [==============================] - 29s 289ms/step - loss: 0.3482 - acc: 0.8376 - val_loss: 0.7254 - val_acc: 0.8357\n",
      "Epoch 100/100\n",
      "100/100 [==============================] - 30s 296ms/step - loss: 0.3507 - acc: 0.8420 - val_loss: 0.8287 - val_acc: 0.8454\n"
     ]
    }
   ],
   "source": [
    "history2 = model.fit_generator(\n",
    "    train_generator, steps_per_epoch=100,\n",
    "    epochs=100, validation_data=validation_generator,\n",
    "    validation_steps=50)\n",
    "model.save(os.path.join(wd,'cats_and_docs_small_2.h5'))"
   ]
  },
  {
   "cell_type": "code",
   "execution_count": 11,
   "metadata": {},
   "outputs": [
    {
     "data": {
      "image/png": "[encoded data removed]",
      "text/plain": [
       "<Figure size 432x288 with 1 Axes>"
      ]
     },
     "metadata": {
      "needs_background": "light"
     },
     "output_type": "display_data"
    },
    {
     "data": {
      "image/png": "[encoded data removed]",
      "text/plain": [
       "<Figure size 432x288 with 1 Axes>"
      ]
     },
     "metadata": {
      "needs_background": "light"
     },
     "output_type": "display_data"
    }
   ],
   "source": [
    "acc = history2.history['acc']\n",
    "val_acc = history2.history['val_acc']\n",
    "loss = history2.history['loss']\n",
    "val_loss = history2.history['val_loss']\n",
    "epochs = range(1, len(acc) + 1)\n",
    "plt.plot(epochs, acc, 'bo', label='Training acc')\n",
    "plt.plot(epochs, val_acc, 'b', label='Validation acc')\n",
    "plt.title('Training and validation accuracy')\n",
    "plt.xlabel('Epochs')\n",
    "plt.ylabel('Accuracy')\n",
    "plt.legend()\n",
    "plt.show()\n",
    "plt.clf()\n",
    "plt.plot(epochs, loss, 'bo', label='Training loss')\n",
    "plt.plot(epochs, val_loss, 'b', label='Validation loss')\n",
    "plt.title('Training and validation loss')\n",
    "plt.xlabel('Epochs')\n",
    "plt.ylabel('Loss')\n",
    "plt.legend()\n",
    "plt.show()"
   ]
  },
  {
   "cell_type": "code",
   "execution_count": 12,
   "metadata": {},
   "outputs": [
    {
     "name": "stdout",
     "output_type": "stream",
     "text": [
      "test acc 0.8324872851371765\n"
     ]
    }
   ],
   "source": [
    "test_loss, test_acc = model.evaluate_generator(test_generator, steps=50)\n",
    "print('test acc', test_acc)"
   ]
  },
  {
   "cell_type": "markdown",
   "metadata": {},
   "source": [
    "### Using pretrained model VGG (feature extraction)"
   ]
  },
  {
   "cell_type": "code",
   "execution_count": 13,
   "metadata": {},
   "outputs": [],
   "source": [
    "from keras.applications import VGG16"
   ]
  },
  {
   "cell_type": "code",
   "execution_count": 14,
   "metadata": {},
   "outputs": [],
   "source": [
    "conv_base = VGG16(weights='imagenet',\n",
    "                  include_top=False,\n",
    "                  input_shape=(150 ,150, 3))"
   ]
  },
  {
   "cell_type": "code",
   "execution_count": 15,
   "metadata": {},
   "outputs": [
    {
     "name": "stdout",
     "output_type": "stream",
     "text": [
      "Found 2000 images belonging to 2 classes.\n",
      "Found 1000 images belonging to 2 classes.\n",
      "Found 1000 images belonging to 2 classes.\n"
     ]
    }
   ],
   "source": [
    "datagen = ImageDataGenerator(rescale=1./255)\n",
    "batch_size = 20\n",
    "\n",
    "def extract_features(directory, sample_count):\n",
    "    features = np.zeros(shape=(sample_count, 4, 4, 512))\n",
    "    labels = np.zeros(shape=(sample_count))\n",
    "    generator = datagen.flow_from_directory(\n",
    "        directory,\n",
    "        target_size=(150, 150),\n",
    "        batch_size=batch_size,\n",
    "        class_mode='binary')\n",
    "    i = 0\n",
    "    for inputs_batch, labels_batch in generator:\n",
    "        features_batch = conv_base.predict(inputs_batch)\n",
    "        features[i * batch_size : (i + 1) * batch_size] = features_batch\n",
    "        labels[i * batch_size : (i + 1) * batch_size] = labels_batch\n",
    "        i += 1\n",
    "        if i * batch_size >= sample_count:\n",
    "            break\n",
    "    return features, labels\n",
    "\n",
    "train_features, train_labels = extract_features(train_dir, 2000)\n",
    "validation_features, validation_labels = extract_features(validation_dir, 1000)\n",
    "test_features, test_labels = extract_features(test_dir, 1000)\n",
    "train_features = np.reshape(train_features, (2000, 4 * 4 * 512))\n",
    "validation_features = np.reshape(validation_features, (1000, 4 * 4 * 512))\n",
    "test_features = np.reshape(test_features, (1000, 4 * 4 * 512))"
   ]
  },
  {
   "cell_type": "code",
   "execution_count": 16,
   "metadata": {},
   "outputs": [
    {
     "name": "stdout",
     "output_type": "stream",
     "text": [
      "Model: \"sequential_3\"\n",
      "_________________________________________________________________\n",
      "Layer (type)                 Output Shape              Param #   \n",
      "=================================================================\n",
      "dense_5 (Dense)              (None, 256)               2097408   \n",
      "_________________________________________________________________\n",
      "dropout_2 (Dropout)          (None, 256)               0         \n",
      "_________________________________________________________________\n",
      "dense_6 (Dense)              (None, 1)                 257       \n",
      "=================================================================\n",
      "Total params: 2,097,665\n",
      "Trainable params: 2,097,665\n",
      "Non-trainable params: 0\n",
      "_________________________________________________________________\n"
     ]
    }
   ],
   "source": [
    "model = Sequential()\n",
    "model.add(layers.Dense(256, activation='relu',\n",
    "                       input_dim=4 * 4 * 512))\n",
    "model.add(layers.Dropout(0.5))\n",
    "model.add(layers.Dense(1, activation='sigmoid'))\n",
    "model.compile(loss='binary_crossentropy',\n",
    "              optimizer=optimizers.RMSprop(lr=2e-5),\n",
    "              metrics=['acc'])\n",
    "model.summary()"
   ]
  },
  {
   "cell_type": "code",
   "execution_count": 17,
   "metadata": {
    "scrolled": true
   },
   "outputs": [
    {
     "name": "stdout",
     "output_type": "stream",
     "text": [
      "Train on 2000 samples, validate on 1000 samples\n",
      "Epoch 1/30\n",
      "2000/2000 [==============================] - 1s 519us/step - loss: 0.6050 - acc: 0.6545 - val_loss: 0.4607 - val_acc: 0.8150\n",
      "Epoch 2/30\n",
      "2000/2000 [==============================] - 1s 393us/step - loss: 0.4440 - acc: 0.7875 - val_loss: 0.3870 - val_acc: 0.8480\n",
      "Epoch 3/30\n",
      "2000/2000 [==============================] - 1s 383us/step - loss: 0.3753 - acc: 0.8265 - val_loss: 0.3444 - val_acc: 0.8540\n",
      "Epoch 4/30\n",
      "2000/2000 [==============================] - 1s 384us/step - loss: 0.3278 - acc: 0.8640 - val_loss: 0.3225 - val_acc: 0.8730\n",
      "Epoch 5/30\n",
      "2000/2000 [==============================] - 1s 400us/step - loss: 0.3141 - acc: 0.8735 - val_loss: 0.3066 - val_acc: 0.8830\n",
      "Epoch 6/30\n",
      "2000/2000 [==============================] - 1s 377us/step - loss: 0.2878 - acc: 0.8670 - val_loss: 0.3110 - val_acc: 0.8710\n",
      "Epoch 7/30\n",
      "2000/2000 [==============================] - 1s 378us/step - loss: 0.2687 - acc: 0.8935 - val_loss: 0.2887 - val_acc: 0.8810\n",
      "Epoch 8/30\n",
      "2000/2000 [==============================] - 1s 381us/step - loss: 0.2506 - acc: 0.9050 - val_loss: 0.2774 - val_acc: 0.8780\n",
      "Epoch 9/30\n",
      "2000/2000 [==============================] - 1s 388us/step - loss: 0.2423 - acc: 0.8960 - val_loss: 0.2701 - val_acc: 0.8940\n",
      "Epoch 10/30\n",
      "2000/2000 [==============================] - 1s 383us/step - loss: 0.2244 - acc: 0.9110 - val_loss: 0.2649 - val_acc: 0.8900\n",
      "Epoch 11/30\n",
      "2000/2000 [==============================] - 1s 382us/step - loss: 0.2163 - acc: 0.9180 - val_loss: 0.2610 - val_acc: 0.8910\n",
      "Epoch 12/30\n",
      "2000/2000 [==============================] - 1s 386us/step - loss: 0.2056 - acc: 0.9210 - val_loss: 0.2589 - val_acc: 0.8920\n",
      "Epoch 13/30\n",
      "2000/2000 [==============================] - 1s 391us/step - loss: 0.1951 - acc: 0.9290 - val_loss: 0.2545 - val_acc: 0.8940\n",
      "Epoch 14/30\n",
      "2000/2000 [==============================] - 1s 401us/step - loss: 0.1928 - acc: 0.9255 - val_loss: 0.2520 - val_acc: 0.8930\n",
      "Epoch 15/30\n",
      "2000/2000 [==============================] - 1s 431us/step - loss: 0.1823 - acc: 0.9330 - val_loss: 0.2495 - val_acc: 0.8990\n",
      "Epoch 16/30\n",
      "2000/2000 [==============================] - 1s 389us/step - loss: 0.1682 - acc: 0.9370 - val_loss: 0.2484 - val_acc: 0.8930\n",
      "Epoch 17/30\n",
      "2000/2000 [==============================] - 1s 373us/step - loss: 0.1673 - acc: 0.9385 - val_loss: 0.2460 - val_acc: 0.8970\n",
      "Epoch 18/30\n",
      "2000/2000 [==============================] - 1s 371us/step - loss: 0.1623 - acc: 0.9500 - val_loss: 0.2459 - val_acc: 0.8950\n",
      "Epoch 19/30\n",
      "2000/2000 [==============================] - 1s 381us/step - loss: 0.1517 - acc: 0.9455 - val_loss: 0.2448 - val_acc: 0.8990\n",
      "Epoch 20/30\n",
      "2000/2000 [==============================] - 1s 384us/step - loss: 0.1496 - acc: 0.9480 - val_loss: 0.2428 - val_acc: 0.8990\n",
      "Epoch 21/30\n",
      "2000/2000 [==============================] - 1s 377us/step - loss: 0.1434 - acc: 0.9555 - val_loss: 0.2420 - val_acc: 0.9010\n",
      "Epoch 22/30\n",
      "2000/2000 [==============================] - 1s 380us/step - loss: 0.1370 - acc: 0.9560 - val_loss: 0.2405 - val_acc: 0.8980\n",
      "Epoch 23/30\n",
      "2000/2000 [==============================] - 1s 362us/step - loss: 0.1308 - acc: 0.9605 - val_loss: 0.2424 - val_acc: 0.9010\n",
      "Epoch 24/30\n",
      "2000/2000 [==============================] - 1s 384us/step - loss: 0.1270 - acc: 0.9590 - val_loss: 0.2406 - val_acc: 0.8970\n",
      "Epoch 25/30\n",
      "2000/2000 [==============================] - 1s 392us/step - loss: 0.1194 - acc: 0.9585 - val_loss: 0.2431 - val_acc: 0.8970\n",
      "Epoch 26/30\n",
      "2000/2000 [==============================] - 1s 398us/step - loss: 0.1151 - acc: 0.9660 - val_loss: 0.2413 - val_acc: 0.9000\n",
      "Epoch 27/30\n",
      "2000/2000 [==============================] - 1s 432us/step - loss: 0.1187 - acc: 0.9655 - val_loss: 0.2416 - val_acc: 0.9010\n",
      "Epoch 28/30\n",
      "2000/2000 [==============================] - 1s 455us/step - loss: 0.1089 - acc: 0.9640 - val_loss: 0.2412 - val_acc: 0.8950\n",
      "Epoch 29/30\n",
      "2000/2000 [==============================] - 1s 438us/step - loss: 0.1090 - acc: 0.9670 - val_loss: 0.2453 - val_acc: 0.8950\n",
      "Epoch 30/30\n",
      "2000/2000 [==============================] - 1s 436us/step - loss: 0.1023 - acc: 0.9690 - val_loss: 0.2389 - val_acc: 0.9000\n"
     ]
    }
   ],
   "source": [
    "history3 = model.fit(train_features, train_labels,\n",
    "                     epochs=30,\n",
    "                     batch_size=20,\n",
    "                     validation_data=(validation_features, validation_labels))\n",
    "model.save(os.path.join(wd,'cats_and_docs_small_3.h5'))"
   ]
  },
  {
   "cell_type": "code",
   "execution_count": 18,
   "metadata": {},
   "outputs": [
    {
     "data": {
      "image/png": "[encoded data removed]",
      "text/plain": [
       "<Figure size 432x288 with 1 Axes>"
      ]
     },
     "metadata": {
      "needs_background": "light"
     },
     "output_type": "display_data"
    },
    {
     "data": {
      "image/png": "[encoded data removed]",
      "text/plain": [
       "<Figure size 432x288 with 1 Axes>"
      ]
     },
     "metadata": {
      "needs_background": "light"
     },
     "output_type": "display_data"
    }
   ],
   "source": [
    "acc = history3.history['acc']\n",
    "val_acc = history3.history['val_acc']\n",
    "loss = history3.history['loss']\n",
    "val_loss = history3.history['val_loss']\n",
    "epochs = range(1, len(acc) + 1)\n",
    "plt.plot(epochs, acc, 'bo', label='Training acc')\n",
    "plt.plot(epochs, val_acc, 'b', label='Validation acc')\n",
    "plt.title('Training and validation accuracy')\n",
    "plt.xlabel('Epochs')\n",
    "plt.ylabel('Accuracy')\n",
    "plt.legend()\n",
    "plt.show()\n",
    "plt.clf()\n",
    "plt.plot(epochs, loss, 'bo', label='Training loss')\n",
    "plt.plot(epochs, val_loss, 'b', label='Validation loss')\n",
    "plt.title('Training and validation loss')\n",
    "plt.xlabel('Epochs')\n",
    "plt.ylabel('Loss')\n",
    "plt.legend()\n",
    "plt.show()"
   ]
  },
  {
   "cell_type": "code",
   "execution_count": 19,
   "metadata": {},
   "outputs": [
    {
     "name": "stdout",
     "output_type": "stream",
     "text": [
      "1000/1000 [==============================] - 0s 143us/step\n",
      "test acc 0.8840000033378601\n"
     ]
    }
   ],
   "source": [
    "test_loss, test_acc = model.evaluate(test_features, test_labels)\n",
    "print('test acc', test_acc)"
   ]
  },
  {
   "cell_type": "markdown",
   "metadata": {},
   "source": [
    "### Using pretrained model VGG (freezing)"
   ]
  },
  {
   "cell_type": "code",
   "execution_count": 20,
   "metadata": {
    "scrolled": false
   },
   "outputs": [
    {
     "name": "stdout",
     "output_type": "stream",
     "text": [
      "Model: \"sequential_4\"\n",
      "_________________________________________________________________\n",
      "Layer (type)                 Output Shape              Param #   \n",
      "=================================================================\n",
      "vgg16 (Model)                (None, 4, 4, 512)         14714688  \n",
      "_________________________________________________________________\n",
      "flatten_3 (Flatten)          (None, 8192)              0         \n",
      "_________________________________________________________________\n",
      "dense_7 (Dense)              (None, 256)               2097408   \n",
      "_________________________________________________________________\n",
      "dense_8 (Dense)              (None, 1)                 257       \n",
      "=================================================================\n",
      "Total params: 16,812,353\n",
      "Trainable params: 2,097,665\n",
      "Non-trainable params: 14,714,688\n",
      "_________________________________________________________________\n"
     ]
    }
   ],
   "source": [
    "model = Sequential()\n",
    "model.add(conv_base)\n",
    "model.add(layers.Flatten())\n",
    "model.add(layers.Dense(256, activation='relu'))\n",
    "model.add(layers.Dense(1, activation='sigmoid'))\n",
    "conv_base.trainable = False\n",
    "model.compile(loss='binary_crossentropy',\n",
    "              optimizer=optimizers.RMSprop(lr=2e-5),\n",
    "              metrics=['acc'])\n",
    "model.summary()"
   ]
  },
  {
   "cell_type": "code",
   "execution_count": 21,
   "metadata": {
    "scrolled": true
   },
   "outputs": [
    {
     "name": "stdout",
     "output_type": "stream",
     "text": [
      "Epoch 1/30\n",
      "100/100 [==============================] - 37s 371ms/step - loss: 0.5856 - acc: 0.7035 - val_loss: 0.5706 - val_acc: 0.8160\n",
      "Epoch 2/30\n",
      "100/100 [==============================] - 33s 326ms/step - loss: 0.4569 - acc: 0.8018 - val_loss: 0.3623 - val_acc: 0.8473\n",
      "Epoch 3/30\n",
      "100/100 [==============================] - 33s 326ms/step - loss: 0.4207 - acc: 0.8084 - val_loss: 0.3734 - val_acc: 0.8756\n",
      "Epoch 4/30\n",
      "100/100 [==============================] - 34s 336ms/step - loss: 0.3904 - acc: 0.8280 - val_loss: 0.2367 - val_acc: 0.8750\n",
      "Epoch 5/30\n",
      "100/100 [==============================] - 33s 330ms/step - loss: 0.3717 - acc: 0.8339 - val_loss: 0.1795 - val_acc: 0.8858\n",
      "Epoch 6/30\n",
      "100/100 [==============================] - 35s 349ms/step - loss: 0.3600 - acc: 0.8412 - val_loss: 0.2150 - val_acc: 0.8918\n",
      "Epoch 7/30\n",
      "100/100 [==============================] - 33s 326ms/step - loss: 0.3651 - acc: 0.8373 - val_loss: 0.1565 - val_acc: 0.9048\n",
      "Epoch 8/30\n",
      "100/100 [==============================] - 33s 327ms/step - loss: 0.3465 - acc: 0.8453 - val_loss: 0.1758 - val_acc: 0.8621\n",
      "Epoch 9/30\n",
      "100/100 [==============================] - 33s 331ms/step - loss: 0.3389 - acc: 0.8549 - val_loss: 0.1559 - val_acc: 0.8911\n",
      "Epoch 10/30\n",
      "100/100 [==============================] - 33s 326ms/step - loss: 0.3399 - acc: 0.8467 - val_loss: 0.3004 - val_acc: 0.8997\n",
      "Epoch 11/30\n",
      "100/100 [==============================] - 34s 343ms/step - loss: 0.3350 - acc: 0.8523 - val_loss: 0.2907 - val_acc: 0.9021\n",
      "Epoch 12/30\n",
      "100/100 [==============================] - 32s 325ms/step - loss: 0.3276 - acc: 0.8589 - val_loss: 0.2905 - val_acc: 0.8997\n",
      "Epoch 13/30\n",
      "100/100 [==============================] - 34s 340ms/step - loss: 0.3204 - acc: 0.8598 - val_loss: 0.3980 - val_acc: 0.9027\n",
      "Epoch 14/30\n",
      "100/100 [==============================] - 38s 383ms/step - loss: 0.2969 - acc: 0.8750 - val_loss: 0.1802 - val_acc: 0.9004\n",
      "Epoch 15/30\n",
      "100/100 [==============================] - 40s 403ms/step - loss: 0.3118 - acc: 0.8659 - val_loss: 0.1472 - val_acc: 0.8988\n",
      "Epoch 16/30\n",
      "100/100 [==============================] - 41s 407ms/step - loss: 0.3119 - acc: 0.8626 - val_loss: 0.1302 - val_acc: 0.9027\n",
      "Epoch 17/30\n",
      "100/100 [==============================] - 40s 405ms/step - loss: 0.3148 - acc: 0.8649 - val_loss: 0.1910 - val_acc: 0.8940\n",
      "Epoch 18/30\n",
      "100/100 [==============================] - 41s 408ms/step - loss: 0.2973 - acc: 0.8637 - val_loss: 0.1619 - val_acc: 0.9008\n",
      "Epoch 19/30\n",
      "100/100 [==============================] - 41s 407ms/step - loss: 0.2910 - acc: 0.8747 - val_loss: 0.2759 - val_acc: 0.8928\n",
      "Epoch 20/30\n",
      "100/100 [==============================] - 42s 425ms/step - loss: 0.3093 - acc: 0.8665 - val_loss: 0.1775 - val_acc: 0.8963\n",
      "Epoch 21/30\n",
      "100/100 [==============================] - 45s 447ms/step - loss: 0.2872 - acc: 0.8741 - val_loss: 0.2119 - val_acc: 0.8997\n",
      "Epoch 22/30\n",
      "100/100 [==============================] - 45s 454ms/step - loss: 0.2996 - acc: 0.8731 - val_loss: 0.3080 - val_acc: 0.8918\n",
      "Epoch 23/30\n",
      "100/100 [==============================] - 46s 458ms/step - loss: 0.2880 - acc: 0.8782 - val_loss: 0.4073 - val_acc: 0.8947\n",
      "Epoch 24/30\n",
      "100/100 [==============================] - 46s 457ms/step - loss: 0.2913 - acc: 0.8734 - val_loss: 0.2083 - val_acc: 0.8963\n",
      "Epoch 25/30\n",
      "100/100 [==============================] - 46s 461ms/step - loss: 0.2973 - acc: 0.8756 - val_loss: 0.2798 - val_acc: 0.8969\n",
      "Epoch 26/30\n",
      "100/100 [==============================] - 46s 463ms/step - loss: 0.2982 - acc: 0.8624 - val_loss: 0.1628 - val_acc: 0.8997\n",
      "Epoch 27/30\n",
      "100/100 [==============================] - 45s 452ms/step - loss: 0.2940 - acc: 0.8696 - val_loss: 0.1337 - val_acc: 0.8885\n",
      "Epoch 28/30\n",
      "100/100 [==============================] - 45s 450ms/step - loss: 0.2848 - acc: 0.8725 - val_loss: 0.1362 - val_acc: 0.8959\n",
      "Epoch 29/30\n",
      "100/100 [==============================] - 45s 448ms/step - loss: 0.2765 - acc: 0.8829 - val_loss: 0.2529 - val_acc: 0.8918\n",
      "Epoch 30/30\n",
      "100/100 [==============================] - 45s 453ms/step - loss: 0.2875 - acc: 0.8772 - val_loss: 0.2335 - val_acc: 0.8997\n"
     ]
    }
   ],
   "source": [
    "history4 = model.fit_generator(\n",
    "    train_generator,\n",
    "    steps_per_epoch=100,\n",
    "    epochs=30,\n",
    "    validation_data=validation_generator,\n",
    "    validation_steps=50)\n",
    "model.save(os.path.join(wd,'cats_and_docs_small_4.h5'))"
   ]
  },
  {
   "cell_type": "code",
   "execution_count": 22,
   "metadata": {},
   "outputs": [
    {
     "data": {
      "image/png": "[encoded data removed]",
      "text/plain": [
       "<Figure size 432x288 with 1 Axes>"
      ]
     },
     "metadata": {
      "needs_background": "light"
     },
     "output_type": "display_data"
    },
    {
     "data": {
      "image/png": "[encoded data removed]",
      "text/plain": [
       "<Figure size 432x288 with 1 Axes>"
      ]
     },
     "metadata": {
      "needs_background": "light"
     },
     "output_type": "display_data"
    }
   ],
   "source": [
    "acc = history4.history['acc']\n",
    "val_acc = history4.history['val_acc']\n",
    "loss = history4.history['loss']\n",
    "val_loss = history4.history['val_loss']\n",
    "epochs = range(1, len(acc) + 1)\n",
    "plt.plot(epochs, acc, 'bo', label='Training acc')\n",
    "plt.plot(epochs, val_acc, 'b', label='Validation acc')\n",
    "plt.title('Training and validation accuracy')\n",
    "plt.xlabel('Epochs')\n",
    "plt.ylabel('Accuracy')\n",
    "plt.legend()\n",
    "plt.show()\n",
    "plt.clf()\n",
    "plt.plot(epochs, loss, 'bo', label='Training loss')\n",
    "plt.plot(epochs, val_loss, 'b', label='Validation loss')\n",
    "plt.title('Training and validation loss')\n",
    "plt.xlabel('Epochs')\n",
    "plt.ylabel('Loss')\n",
    "plt.legend()\n",
    "plt.show()"
   ]
  },
  {
   "cell_type": "code",
   "execution_count": 23,
   "metadata": {},
   "outputs": [
    {
     "name": "stdout",
     "output_type": "stream",
     "text": [
      "test acc 0.8838832378387451\n"
     ]
    }
   ],
   "source": [
    "test_loss, test_acc = model.evaluate_generator(test_generator, steps=50)\n",
    "print('test acc', test_acc)"
   ]
  },
  {
   "cell_type": "markdown",
   "metadata": {},
   "source": [
    "### Using pretrained model VGG (fine-tuning)"
   ]
  },
  {
   "cell_type": "code",
   "execution_count": 25,
   "metadata": {},
   "outputs": [
    {
     "name": "stdout",
     "output_type": "stream",
     "text": [
      "Model: \"sequential_4\"\n",
      "_________________________________________________________________\n",
      "Layer (type)                 Output Shape              Param #   \n",
      "=================================================================\n",
      "vgg16 (Model)                (None, 4, 4, 512)         14714688  \n",
      "_________________________________________________________________\n",
      "flatten_3 (Flatten)          (None, 8192)              0         \n",
      "_________________________________________________________________\n",
      "dense_7 (Dense)              (None, 256)               2097408   \n",
      "_________________________________________________________________\n",
      "dense_8 (Dense)              (None, 1)                 257       \n",
      "=================================================================\n",
      "Total params: 16,812,353\n",
      "Trainable params: 9,177,089\n",
      "Non-trainable params: 7,635,264\n",
      "_________________________________________________________________\n"
     ]
    }
   ],
   "source": [
    "conv_base.trainable = True\n",
    "set_trainable = False\n",
    "for layer in conv_base.layers:\n",
    "    if layer.name == 'block5_conv1':\n",
    "        set_trainable = True\n",
    "    if set_trainable:\n",
    "        layer.trainable = True\n",
    "    else:\n",
    "        layer.trainable = False\n",
    "\n",
    "model.compile(loss='binary_crossentropy',\n",
    "              optimizer=optimizers.RMSprop(lr=1e-5),\n",
    "              metrics=['acc'])\n",
    "model.summary()"
   ]
  },
  {
   "cell_type": "code",
   "execution_count": 26,
   "metadata": {
    "scrolled": true
   },
   "outputs": [
    {
     "name": "stdout",
     "output_type": "stream",
     "text": [
      "Epoch 1/100\n",
      "100/100 [==============================] - 35s 352ms/step - loss: 0.2752 - acc: 0.8769 - val_loss: 0.1617 - val_acc: 0.8877\n",
      "Epoch 2/100\n",
      "100/100 [==============================] - 33s 330ms/step - loss: 0.2516 - acc: 0.8916 - val_loss: 0.3135 - val_acc: 0.8814\n",
      "Epoch 3/100\n",
      "100/100 [==============================] - 32s 323ms/step - loss: 0.2299 - acc: 0.9009 - val_loss: 0.2824 - val_acc: 0.8978\n",
      "Epoch 4/100\n",
      "100/100 [==============================] - 34s 337ms/step - loss: 0.2046 - acc: 0.9193 - val_loss: 0.2305 - val_acc: 0.9149\n",
      "Epoch 5/100\n",
      "100/100 [==============================] - 32s 324ms/step - loss: 0.1927 - acc: 0.9176 - val_loss: 0.2431 - val_acc: 0.9175\n",
      "Epoch 6/100\n",
      "100/100 [==============================] - 30s 305ms/step - loss: 0.1757 - acc: 0.9277 - val_loss: 0.0447 - val_acc: 0.9175\n",
      "Epoch 7/100\n",
      "100/100 [==============================] - 32s 322ms/step - loss: 0.1679 - acc: 0.9315 - val_loss: 0.2326 - val_acc: 0.8915\n",
      "Epoch 8/100\n",
      "100/100 [==============================] - 32s 324ms/step - loss: 0.1551 - acc: 0.9344 - val_loss: 0.3150 - val_acc: 0.9291\n",
      "Epoch 9/100\n",
      "100/100 [==============================] - 33s 333ms/step - loss: 0.1468 - acc: 0.9337 - val_loss: 0.1434 - val_acc: 0.9285\n",
      "Epoch 10/100\n",
      "100/100 [==============================] - 32s 321ms/step - loss: 0.1407 - acc: 0.9422 - val_loss: 0.3486 - val_acc: 0.9131\n",
      "Epoch 11/100\n",
      "100/100 [==============================] - 34s 344ms/step - loss: 0.1125 - acc: 0.9576 - val_loss: 0.0809 - val_acc: 0.9220\n",
      "Epoch 12/100\n",
      "100/100 [==============================] - 33s 330ms/step - loss: 0.1151 - acc: 0.9517 - val_loss: 0.2029 - val_acc: 0.9302\n",
      "Epoch 13/100\n",
      "100/100 [==============================] - 36s 358ms/step - loss: 0.1091 - acc: 0.9592 - val_loss: 0.3115 - val_acc: 0.9143\n",
      "Epoch 14/100\n",
      "100/100 [==============================] - 44s 438ms/step - loss: 0.1223 - acc: 0.9524 - val_loss: 0.2171 - val_acc: 0.9258\n",
      "Epoch 15/100\n",
      "100/100 [==============================] - 44s 443ms/step - loss: 0.0968 - acc: 0.9629 - val_loss: 0.1021 - val_acc: 0.9304\n",
      "Epoch 16/100\n",
      "100/100 [==============================] - 44s 443ms/step - loss: 0.0870 - acc: 0.9705 - val_loss: 0.0067 - val_acc: 0.9259\n",
      "Epoch 17/100\n",
      "100/100 [==============================] - 49s 492ms/step - loss: 0.0882 - acc: 0.9656 - val_loss: 0.3588 - val_acc: 0.9321\n",
      "Epoch 18/100\n",
      "100/100 [==============================] - 53s 533ms/step - loss: 0.0830 - acc: 0.9669 - val_loss: 0.2592 - val_acc: 0.9330\n",
      "Epoch 19/100\n",
      "100/100 [==============================] - 55s 550ms/step - loss: 0.0775 - acc: 0.9689 - val_loss: 0.2485 - val_acc: 0.9201\n",
      "Epoch 20/100\n",
      "100/100 [==============================] - 54s 538ms/step - loss: 0.0844 - acc: 0.9695 - val_loss: 0.3158 - val_acc: 0.9285\n",
      "Epoch 21/100\n",
      "100/100 [==============================] - 53s 530ms/step - loss: 0.0771 - acc: 0.9735 - val_loss: 0.1279 - val_acc: 0.9321\n",
      "Epoch 22/100\n",
      "100/100 [==============================] - 53s 531ms/step - loss: 0.0726 - acc: 0.9757 - val_loss: 0.2658 - val_acc: 0.9220\n",
      "Epoch 23/100\n",
      "100/100 [==============================] - 53s 534ms/step - loss: 0.0678 - acc: 0.9752 - val_loss: 0.2555 - val_acc: 0.9296\n",
      "Epoch 24/100\n",
      "100/100 [==============================] - 54s 541ms/step - loss: 0.0768 - acc: 0.9713 - val_loss: 0.2222 - val_acc: 0.9311\n",
      "Epoch 25/100\n",
      "100/100 [==============================] - 54s 541ms/step - loss: 0.0610 - acc: 0.9766 - val_loss: 0.2396 - val_acc: 0.9349\n",
      "Epoch 26/100\n",
      "100/100 [==============================] - 55s 547ms/step - loss: 0.0595 - acc: 0.9821 - val_loss: 0.1484 - val_acc: 0.9372\n",
      "Epoch 27/100\n",
      "100/100 [==============================] - 56s 556ms/step - loss: 0.0575 - acc: 0.9780 - val_loss: 0.0021 - val_acc: 0.9265\n",
      "Epoch 28/100\n",
      "100/100 [==============================] - 54s 545ms/step - loss: 0.0583 - acc: 0.9801 - val_loss: 0.0256 - val_acc: 0.9270\n",
      "Epoch 29/100\n",
      "100/100 [==============================] - 54s 536ms/step - loss: 0.0438 - acc: 0.9845 - val_loss: 0.0967 - val_acc: 0.9323\n",
      "Epoch 30/100\n",
      "100/100 [==============================] - 54s 538ms/step - loss: 0.0509 - acc: 0.9824 - val_loss: 0.2199 - val_acc: 0.9359\n",
      "Epoch 31/100\n",
      "100/100 [==============================] - 54s 537ms/step - loss: 0.0443 - acc: 0.9839 - val_loss: 0.0502 - val_acc: 0.9317\n",
      "Epoch 32/100\n",
      "100/100 [==============================] - 55s 546ms/step - loss: 0.0452 - acc: 0.9836 - val_loss: 0.4710 - val_acc: 0.9259\n",
      "Epoch 33/100\n",
      "100/100 [==============================] - 55s 551ms/step - loss: 0.0491 - acc: 0.9821 - val_loss: 0.1625 - val_acc: 0.9245\n",
      "Epoch 34/100\n",
      "100/100 [==============================] - 55s 549ms/step - loss: 0.0400 - acc: 0.9858 - val_loss: 0.0690 - val_acc: 0.9304\n",
      "Epoch 35/100\n",
      "100/100 [==============================] - 56s 556ms/step - loss: 0.0385 - acc: 0.9855 - val_loss: 0.0763 - val_acc: 0.9245\n",
      "Epoch 36/100\n",
      "100/100 [==============================] - 55s 550ms/step - loss: 0.0453 - acc: 0.9846 - val_loss: 0.4258 - val_acc: 0.9201\n",
      "Epoch 37/100\n",
      "100/100 [==============================] - 54s 541ms/step - loss: 0.0377 - acc: 0.9874 - val_loss: 0.1160 - val_acc: 0.9302\n",
      "Epoch 38/100\n",
      "100/100 [==============================] - 54s 537ms/step - loss: 0.0389 - acc: 0.9865 - val_loss: 0.4203 - val_acc: 0.9104\n",
      "Epoch 39/100\n",
      "100/100 [==============================] - 54s 542ms/step - loss: 0.0302 - acc: 0.9908 - val_loss: 0.0169 - val_acc: 0.9289\n",
      "Epoch 40/100\n",
      "100/100 [==============================] - 54s 542ms/step - loss: 0.0338 - acc: 0.9877 - val_loss: 0.2740 - val_acc: 0.9343\n",
      "Epoch 41/100\n",
      "100/100 [==============================] - 54s 544ms/step - loss: 0.0282 - acc: 0.9912 - val_loss: 0.3507 - val_acc: 0.9349\n",
      "Epoch 42/100\n",
      "100/100 [==============================] - 55s 552ms/step - loss: 0.0351 - acc: 0.9867 - val_loss: 0.0450 - val_acc: 0.9315\n",
      "Epoch 43/100\n",
      "100/100 [==============================] - 55s 545ms/step - loss: 0.0258 - acc: 0.9912 - val_loss: 0.1159 - val_acc: 0.9175\n",
      "Epoch 44/100\n",
      "100/100 [==============================] - 53s 532ms/step - loss: 0.0333 - acc: 0.9877 - val_loss: 0.0024 - val_acc: 0.9346\n",
      "Epoch 45/100\n",
      "100/100 [==============================] - 52s 519ms/step - loss: 0.0279 - acc: 0.9899 - val_loss: 0.1117 - val_acc: 0.9394\n",
      "Epoch 46/100\n",
      "100/100 [==============================] - 53s 528ms/step - loss: 0.0276 - acc: 0.9918 - val_loss: 0.5285 - val_acc: 0.9156\n",
      "Epoch 47/100\n",
      "100/100 [==============================] - 52s 521ms/step - loss: 0.0263 - acc: 0.9899 - val_loss: 0.0781 - val_acc: 0.9317\n",
      "Epoch 48/100\n",
      "100/100 [==============================] - 53s 534ms/step - loss: 0.0359 - acc: 0.9864 - val_loss: 0.0026 - val_acc: 0.9246\n",
      "Epoch 49/100\n",
      "100/100 [==============================] - 54s 536ms/step - loss: 0.0322 - acc: 0.9884 - val_loss: 0.4276 - val_acc: 0.9353\n",
      "Epoch 50/100\n",
      "100/100 [==============================] - 53s 532ms/step - loss: 0.0291 - acc: 0.9902 - val_loss: 0.4966 - val_acc: 0.9349\n",
      "Epoch 51/100\n",
      "100/100 [==============================] - 54s 538ms/step - loss: 0.0238 - acc: 0.9921 - val_loss: 0.1998 - val_acc: 0.9327\n",
      "Epoch 52/100\n",
      "100/100 [==============================] - 53s 526ms/step - loss: 0.0265 - acc: 0.9905 - val_loss: 0.4126 - val_acc: 0.9407\n",
      "Epoch 53/100\n",
      "100/100 [==============================] - 52s 521ms/step - loss: 0.0166 - acc: 0.9947 - val_loss: 0.0136 - val_acc: 0.9346\n",
      "Epoch 54/100\n",
      "100/100 [==============================] - 51s 513ms/step - loss: 0.0294 - acc: 0.9918 - val_loss: 0.0105 - val_acc: 0.9407\n",
      "Epoch 55/100\n",
      "100/100 [==============================] - 52s 519ms/step - loss: 0.0317 - acc: 0.9881 - val_loss: 0.0425 - val_acc: 0.9321\n",
      "Epoch 56/100\n",
      "100/100 [==============================] - 52s 522ms/step - loss: 0.0236 - acc: 0.9918 - val_loss: 0.0066 - val_acc: 0.9356\n",
      "Epoch 57/100\n",
      "100/100 [==============================] - 53s 525ms/step - loss: 0.0237 - acc: 0.9934 - val_loss: 0.0890 - val_acc: 0.9369\n",
      "Epoch 58/100\n",
      "100/100 [==============================] - 52s 525ms/step - loss: 0.0209 - acc: 0.9937 - val_loss: 0.0730 - val_acc: 0.9378\n",
      "Epoch 59/100\n",
      "100/100 [==============================] - 54s 537ms/step - loss: 0.0189 - acc: 0.9928 - val_loss: 0.2064 - val_acc: 0.9227\n",
      "Epoch 60/100\n",
      "100/100 [==============================] - 53s 532ms/step - loss: 0.0274 - acc: 0.9912 - val_loss: 0.4679 - val_acc: 0.9346\n",
      "Epoch 61/100\n",
      "100/100 [==============================] - 52s 516ms/step - loss: 0.0185 - acc: 0.9924 - val_loss: 0.1684 - val_acc: 0.9394\n",
      "Epoch 62/100\n",
      "100/100 [==============================] - 52s 516ms/step - loss: 0.0138 - acc: 0.9956 - val_loss: 0.0094 - val_acc: 0.9461\n",
      "Epoch 63/100\n",
      "100/100 [==============================] - 51s 510ms/step - loss: 0.0238 - acc: 0.9924 - val_loss: 1.4702 - val_acc: 0.9369\n",
      "Epoch 64/100\n",
      "100/100 [==============================] - 52s 517ms/step - loss: 0.0192 - acc: 0.9940 - val_loss: 0.0901 - val_acc: 0.9420\n",
      "Epoch 65/100\n",
      "100/100 [==============================] - 52s 525ms/step - loss: 0.0188 - acc: 0.9949 - val_loss: 0.5948 - val_acc: 0.9340\n",
      "Epoch 66/100\n",
      "100/100 [==============================] - 53s 529ms/step - loss: 0.0144 - acc: 0.9962 - val_loss: 0.2981 - val_acc: 0.9439\n",
      "Epoch 67/100\n",
      "100/100 [==============================] - 53s 533ms/step - loss: 0.0132 - acc: 0.9956 - val_loss: 0.4310 - val_acc: 0.9391\n",
      "Epoch 68/100\n",
      "100/100 [==============================] - 54s 537ms/step - loss: 0.0186 - acc: 0.9937 - val_loss: 0.2440 - val_acc: 0.9394\n",
      "Epoch 69/100\n",
      "100/100 [==============================] - 54s 537ms/step - loss: 0.0192 - acc: 0.9928 - val_loss: 0.7824 - val_acc: 0.9372\n",
      "Epoch 70/100\n",
      "100/100 [==============================] - 52s 524ms/step - loss: 0.0154 - acc: 0.9940 - val_loss: 0.4517 - val_acc: 0.9439\n",
      "Epoch 71/100\n",
      "100/100 [==============================] - 53s 534ms/step - loss: 0.0182 - acc: 0.9940 - val_loss: 0.0995 - val_acc: 0.9340\n",
      "Epoch 72/100\n",
      "100/100 [==============================] - 54s 542ms/step - loss: 0.0109 - acc: 0.9956 - val_loss: 0.0051 - val_acc: 0.9369\n",
      "Epoch 73/100\n",
      "100/100 [==============================] - 55s 550ms/step - loss: 0.0113 - acc: 0.9959 - val_loss: 0.0952 - val_acc: 0.9349\n",
      "Epoch 74/100\n",
      "100/100 [==============================] - 55s 554ms/step - loss: 0.0148 - acc: 0.9956 - val_loss: 0.1328 - val_acc: 0.9353\n",
      "Epoch 75/100\n",
      "100/100 [==============================] - 56s 559ms/step - loss: 0.0157 - acc: 0.9959 - val_loss: 0.8388 - val_acc: 0.9298\n",
      "Epoch 76/100\n",
      "100/100 [==============================] - 55s 551ms/step - loss: 0.0152 - acc: 0.9947 - val_loss: 0.0720 - val_acc: 0.9365\n",
      "Epoch 77/100\n",
      "100/100 [==============================] - 54s 537ms/step - loss: 0.0124 - acc: 0.9959 - val_loss: 0.4496 - val_acc: 0.9323\n",
      "Epoch 78/100\n",
      "100/100 [==============================] - 53s 532ms/step - loss: 0.0106 - acc: 0.9965 - val_loss: 0.4908 - val_acc: 0.9372\n",
      "Epoch 79/100\n",
      "100/100 [==============================] - 53s 534ms/step - loss: 0.0143 - acc: 0.9959 - val_loss: 0.3745 - val_acc: 0.9175\n",
      "Epoch 80/100\n",
      "100/100 [==============================] - 54s 537ms/step - loss: 0.0193 - acc: 0.9927 - val_loss: 3.2916e-04 - val_acc: 0.9369\n",
      "Epoch 81/100\n",
      "100/100 [==============================] - 55s 553ms/step - loss: 0.0149 - acc: 0.9953 - val_loss: 0.1999 - val_acc: 0.9327\n",
      "Epoch 82/100\n",
      "100/100 [==============================] - 56s 559ms/step - loss: 0.0167 - acc: 0.9943 - val_loss: 0.8788 - val_acc: 0.9369\n",
      "Epoch 83/100\n",
      "100/100 [==============================] - 55s 555ms/step - loss: 0.0180 - acc: 0.9934 - val_loss: 0.2956 - val_acc: 0.9404\n",
      "Epoch 84/100\n",
      "100/100 [==============================] - 56s 563ms/step - loss: 0.0156 - acc: 0.9956 - val_loss: 0.2947 - val_acc: 0.9414\n",
      "Epoch 85/100\n",
      "100/100 [==============================] - 56s 562ms/step - loss: 0.0126 - acc: 0.9962 - val_loss: 0.1726 - val_acc: 0.9385\n",
      "Epoch 86/100\n",
      "100/100 [==============================] - 55s 549ms/step - loss: 0.0137 - acc: 0.9937 - val_loss: 0.0033 - val_acc: 0.9323\n",
      "Epoch 87/100\n",
      "100/100 [==============================] - 55s 547ms/step - loss: 0.0142 - acc: 0.9953 - val_loss: 0.4599 - val_acc: 0.9385\n",
      "Epoch 88/100\n",
      "100/100 [==============================] - 55s 549ms/step - loss: 0.0138 - acc: 0.9965 - val_loss: 0.1807 - val_acc: 0.9311\n",
      "Epoch 89/100\n",
      "100/100 [==============================] - 56s 559ms/step - loss: 0.0066 - acc: 0.9978 - val_loss: 0.0012 - val_acc: 0.9362\n",
      "Epoch 90/100\n",
      "100/100 [==============================] - 56s 559ms/step - loss: 0.0140 - acc: 0.9940 - val_loss: 0.0028 - val_acc: 0.9353\n",
      "Epoch 91/100\n",
      "100/100 [==============================] - 56s 563ms/step - loss: 0.0095 - acc: 0.9975 - val_loss: 0.3361 - val_acc: 0.9259\n",
      "Epoch 92/100\n",
      "100/100 [==============================] - 57s 569ms/step - loss: 0.0177 - acc: 0.9928 - val_loss: 0.6775 - val_acc: 0.9181\n",
      "Epoch 93/100\n",
      "100/100 [==============================] - 56s 563ms/step - loss: 0.0103 - acc: 0.9953 - val_loss: 0.3547 - val_acc: 0.9407\n",
      "Epoch 94/100\n",
      "100/100 [==============================] - 55s 550ms/step - loss: 0.0049 - acc: 0.9994 - val_loss: 0.8988 - val_acc: 0.9404\n",
      "Epoch 95/100\n",
      "100/100 [==============================] - 55s 549ms/step - loss: 0.0150 - acc: 0.9956 - val_loss: 0.0054 - val_acc: 0.9439\n",
      "Epoch 96/100\n",
      "100/100 [==============================] - 54s 544ms/step - loss: 0.0162 - acc: 0.9953 - val_loss: 8.0840e-07 - val_acc: 0.9311\n",
      "Epoch 97/100\n",
      "100/100 [==============================] - 57s 566ms/step - loss: 0.0086 - acc: 0.9972 - val_loss: 0.2849 - val_acc: 0.9321\n",
      "Epoch 98/100\n",
      "100/100 [==============================] - 57s 565ms/step - loss: 0.0152 - acc: 0.9959 - val_loss: 0.1151 - val_acc: 0.9427\n",
      "Epoch 99/100\n",
      "100/100 [==============================] - 57s 566ms/step - loss: 0.0160 - acc: 0.9975 - val_loss: 0.1610 - val_acc: 0.9385\n",
      "Epoch 100/100\n",
      "100/100 [==============================] - 57s 570ms/step - loss: 0.0100 - acc: 0.9959 - val_loss: 0.0134 - val_acc: 0.9517\n"
     ]
    }
   ],
   "source": [
    "history5 = model.fit_generator(\n",
    "    train_generator,\n",
    "    steps_per_epoch=100,\n",
    "    epochs=100,\n",
    "    validation_data=validation_generator,\n",
    "    validation_steps=50)\n",
    "model.save(os.path.join(wd,'cats_and_docs_small_5.h5'))"
   ]
  },
  {
   "cell_type": "code",
   "execution_count": 27,
   "metadata": {},
   "outputs": [
    {
     "data": {
      "image/png": "[encoded data removed]",
      "text/plain": [
       "<Figure size 432x288 with 1 Axes>"
      ]
     },
     "metadata": {
      "needs_background": "light"
     },
     "output_type": "display_data"
    },
    {
     "data": {
      "image/png": "[encoded data removed]",
      "text/plain": [
       "<Figure size 432x288 with 1 Axes>"
      ]
     },
     "metadata": {
      "needs_background": "light"
     },
     "output_type": "display_data"
    }
   ],
   "source": [
    "acc = history5.history['acc']\n",
    "val_acc = history5.history['val_acc']\n",
    "loss = history5.history['loss']\n",
    "val_loss = history5.history['val_loss']\n",
    "epochs = range(1, len(acc) + 1)\n",
    "plt.plot(epochs, acc, 'bo', label='Training acc')\n",
    "plt.plot(epochs, val_acc, 'b', label='Validation acc')\n",
    "plt.title('Training and validation accuracy')\n",
    "plt.xlabel('Epochs')\n",
    "plt.ylabel('Accuracy')\n",
    "plt.legend()\n",
    "plt.show()\n",
    "plt.clf()\n",
    "plt.plot(epochs, loss, 'bo', label='Training loss')\n",
    "plt.plot(epochs, val_loss, 'b', label='Validation loss')\n",
    "plt.title('Training and validation loss')\n",
    "plt.xlabel('Epochs')\n",
    "plt.ylabel('Loss')\n",
    "plt.legend()\n",
    "plt.show()"
   ]
  },
  {
   "cell_type": "code",
   "execution_count": 28,
   "metadata": {},
   "outputs": [
    {
     "name": "stdout",
     "output_type": "stream",
     "text": [
      "test acc 0.9397208094596863\n"
     ]
    }
   ],
   "source": [
    "test_loss, test_acc = model.evaluate_generator(test_generator, steps=50)\n",
    "print('test acc', test_acc)"
   ]
  },
  {
   "cell_type": "code",
   "execution_count": null,
   "metadata": {},
   "outputs": [],
   "source": []
  }
 ],
 "metadata": {
  "kernelspec": {
   "display_name": "Python 3",
   "language": "python",
   "name": "python3"
  },
  "language_info": {
   "codemirror_mode": {
    "name": "ipython",
    "version": 3
   },
   "file_extension": ".py",
   "mimetype": "text/x-python",
   "name": "python",
   "nbconvert_exporter": "python",
   "pygments_lexer": "ipython3",
   "version": "3.7.5"
  }
 },
 "nbformat": 4,
 "nbformat_minor": 2
}
